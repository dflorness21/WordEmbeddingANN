{
 "cells": [
  {
   "cell_type": "markdown",
   "metadata": {
    "pycharm": {
     "name": "#%% md\n"
    }
   },
   "source": [
    "## Final Project: Word Embedding\n",
    "\n",
    "DIS SU22 Artficial Neural Network and Deep Learning\n",
    "Daniel Florness, Heesang Han, Ed Keating\n",
    "1 July 2022"
   ]
  },
  {
   "cell_type": "code",
   "execution_count": 16,
   "metadata": {
    "ExecuteTime": {
     "end_time": "2019-10-14T18:33:15.670464Z",
     "start_time": "2019-10-14T18:33:15.662510Z"
    },
    "pycharm": {
     "name": "#%%\n"
    }
   },
   "outputs": [
    {
     "name": "stderr",
     "output_type": "stream",
     "text": [
      "[nltk_data] Downloading package omw-1.4 to\n",
      "[nltk_data]     C:\\Users\\flord\\AppData\\Roaming\\nltk_data...\n",
      "[nltk_data]   Package omw-1.4 is already up-to-date!\n",
      "[nltk_data] Downloading package punkt to\n",
      "[nltk_data]     C:\\Users\\flord\\AppData\\Roaming\\nltk_data...\n",
      "[nltk_data]   Package punkt is already up-to-date!\n",
      "[nltk_data] Downloading package stopwords to\n",
      "[nltk_data]     C:\\Users\\flord\\AppData\\Roaming\\nltk_data...\n",
      "[nltk_data]   Package stopwords is already up-to-date!\n",
      "[nltk_data] Downloading package wordnet to\n",
      "[nltk_data]     C:\\Users\\flord\\AppData\\Roaming\\nltk_data...\n",
      "[nltk_data]   Package wordnet is already up-to-date!\n"
     ]
    }
   ],
   "source": [
    "%matplotlib inline\n",
    "\n",
    "import numpy as np\n",
    "\n",
    "from nltk.corpus import wordnet\n",
    "\n",
    "import nltk\n",
    "nltk.download('omw-1.4')\n",
    "nltk.download('punkt')\n",
    "nltk.download('stopwords')\n",
    "nltk.download('wordnet')\n",
    "stop_words = nltk.corpus.stopwords.words('english')\n",
    "\n",
    "import keras\n",
    "import re\n",
    "import math\n",
    "\n",
    "import tensorflow.keras\n",
    "\n",
    "import matplotlib.pyplot as plt"
   ]
  },
  {
   "cell_type": "code",
   "execution_count": 17,
   "metadata": {
    "pycharm": {
     "name": "#%%\n"
    }
   },
   "outputs": [
    {
     "name": "stdout",
     "output_type": "stream",
     "text": [
      "7260 tokens generated\n",
      "Token Mapping Complete\n",
      "{'fun': 0, 'four': 1, 'knock': 2, 'arizona': 3, 'department': 4, 'saloon': 5, 'sky': 6, 'guitar': 7, 'blink': 8, 'stating': 9, 'sharing': 10, 'bob': 11, 'newspaper': 12, 'want': 13, 'cigarette': 14, 'carousel': 15, 'fighting': 16, 'meant': 17, 'kill': 18, 'saving': 19, 'coat': 20, 'declare': 21, 'fix': 22, 'ago': 23, 'quit': 24, 'fancy': 25, 'mojo': 26, 'sat': 27, 'fall': 28, 'childlike': 29, 'bright': 30, 'shines': 31, 'made': 32, 'friends': 33, 'dakota': 34, 'queen': 35, 'aaaaaaaahhhh': 36, 'revolution': 37, 'medicine': 38, 'sunshine': 39, 'hah': 40, 'minds': 41, 'older': 42, 'talked': 43, 'music': 44, 'cuesto': 45, 'lose': 46, 'word': 47, 'allen': 48, 'car': 49, 'sergeant': 50, 'grinning': 51, 'endless': 52, 'pink': 53, 'like': 54, 'pain': 55, 'every': 56, 'matter': 57, 'edgar': 58, 'happiness': 59, 'booked': 60, 'imagine': 61, 'give': 62, 'lock': 63, 'guaranteed': 64, 'water': 65, 'birds': 66, 'someone': 67, \"ain't\": 68, 'mundo': 69, 'going': 70, 'agree': 71, 'gideon': 72, 'belonged': 73, 'coaster': 74, 'showed': 75, 'notice': 76, 'comes': 77, 'works': 78, 'toe': 79, 'fireman': 80, 'ahead': 81, 'lend': 82, 'clouds': 83, 'shore': 84, 'hee': 85, 'wear': 86, 'paramucho': 87, 'kept': 88, 'blackburn': 89, 'fell': 90, 'bien': 91, 'texpert': 92, 'waits': 93, \"we've\": 94, 'speaking': 95, 'sailed': 96, 'babe': 97, 'today': 98, 'joa': 99, 'saying': 100, 'ground': 101, 'scratch': 102, 'poe': 103, 'gather': 104, 'walter': 105, 'collapsed': 106, 'sun': 107, 'boom': 108, 'mountain': 109, 'hour': 110, 'dripping': 111, 'form': 112, 'upon': 113, 'pools': 114, 'billy': 115, 'lil': 116, 'crying': 117, 'paul': 118, 'never': 119, 'moved': 120, 'war': 121, 'children': 122, 'dawn': 123, 'clean': 124, 'sweater': 125, 'shades': 126, 'coca': 127, 'fears': 128, 'mean': 129, 'sce': 130, 'roof': 131, 'hearts': 132, 'bellyful': 133, 'bells': 134, 'station': 135, 'though': 136, 'enjoy': 137, 'joo': 138, 'quiet': 139, 'market': 140, 'looks': 141, 'nah': 142, 'cut': 143, 'whenever': 144, 'policemen': 145, 'phone': 146, 'elementary': 147, 'tuesday': 148, 'jones': 149, 'isle': 150, 'vera': 151, 'wrong': 152, 'diller': 153, 'possessing': 154, 'constitution': 155, 'skin': 156, 'bit': 157, 'week': 158, 'seconds': 159, 'raccoon': 160, 'burst': 161, 'ussr': 162, 'grabbed': 163, 'turning': 164, 'dime': 165, 'wait': 166, 'aaaaaaahhhh': 167, 'roar': 168, 'quarter': 169, 'yellow': 170, 'images': 171, 'know': 172, 'marshmallow': 173, 'steady': 174, 'doubt': 175, 'miami': 176, 'fireside': 177, 'pillow': 178, 'chair': 179, 'appear': 180, 'feels': 181, 'self': 182, 'cable': 183, 'mornings': 184, 'worries': 185, 'beach': 186, 'boys': 187, 'leads': 188, 'everywhere': 189, 'sir': 190, 'machine': 191, 'washed': 192, 'submarines': 193, 'took': 194, 'doctor': 195, 'certainly': 196, 'yes': 197, 'getter': 198, 'sweeping': 199, 'pay': 200, 'home': 201, 'pride': 202, 'protected': 203, 'stands': 204, 'tea': 205, 'black': 206, 'listens': 207, 'seven': 208, 'rest': 209, 'regret': 210, 'pennies': 211, 'town': 212, 'dressed': 213, 'met': 214, 'selling': 215, 'darling': 216, 'movement': 217, 'aboard': 218, 'better': 219, 'shouts': 220, 'stoney': 221, 'shows': 222, 'carat': 223, 'nurse': 224, 'join': 225, 'takes': 226, 'guru': 227, 'avoid': 228, 'arriving': 229, 'mao': 230, 'introduce': 231, 'come': 232, 'blackbird': 233, 'little': 234, 'vanish': 235, 'michelle': 236, 'pies': 237, 'wild': 238, 'south': 239, 'along': 240, 'ocean': 241, 'endear': 242, 'moves': 243, 'swim': 244, 'california': 245, \"there's\": 246, 'saw': 247, 'banker': 248, \"mama's\": 249, 'shot': 250, 'brain': 251, 'head': 252, 'vont': 253, 'gas': 254, 'hearing': 255, 'shoulder': 256, 'meaning': 257, 'shirt': 258, 'coral': 259, 'noticed': 260, 'filter': 261, 'understand': 262, 'loretta': 263, 'thinking': 264, 'servicible': 265, 'restless': 266, 'suddenly': 267, 'eye': 268, 'part': 269, 'chain': 270, 'ask': 271, 'rather': 272, 'bang': 273, 'turned': 274, 'worry': 275, 'penetrate': 276, 'act': 277, 'mckenzie': 278, 'ring': 279, 'sont': 280, 'aware': 281, 'cola': 282, 'trouble': 283, 'martin': 284, 'fussing': 285, 'future': 286, 'woof': 287, 'goes': 288, 'obrigado': 289, 'flat': 290, 'last': 291, 'chewing': 292, 'party': 293, 'hope': 294, 'learns': 295, 'blew': 296, 'happen': 297, 'learn': 298, 'wow': 299, 'windy': 300, 'guy': 301, 'goodbye': 302, 'horse': 303, 'day': 304, 'line': 305, 'disconnect': 306, 'albert': 307, 'kilt': 308, 'shall': 309, 'rent': 310, 'risk': 311, 'jukebox': 312, 'tres': 313, 'hoo': 314, 'unfold': 315, 'changed': 316, 'institution': 317, 'calls': 318, 'attracts': 319, 'sideboard': 320, 'junior': 321, 'found': 322, 'soon': 323, 'together': 324, 'bag': 325, 'riding': 326, 'lifting': 327, 'west': 328, 'caught': 329, \"balalaika's\": 330, 'cave': 331, 'aye': 332, 'hurting': 333, 'twenty': 334, 'fools': 335, 'face': 336, \"jeweler's\": 337, 'orange': 338, 'test': 339, 'window': 340, 'funny': 341, 'look': 342, 'apart': 343, 'radiate': 344, 'revival': 345, \"girl's\": 346, 'ran': 347, 'parted': 348, 'change': 349, 'year': 350, 'bought': 351, 'something': 352, 'table': 353, 'rocking': 354, 'till': 355, 'store': 356, 'perform': 357, \"i've\": 358, 'lit': 359, 'dan': 360, 'times': 361, 'brand': 362, 'man': 363, 'bloody': 364, 'suns': 365, 'mucho': 366, 'inverted': 367, 'perfectly': 368, 'seen': 369, 'say': 370, 'grave': 371, 'valerie': 372, 'anything': 373, 'nice': 374, 'stinking': 375, 'showdown': 376, 'please': 377, 'take': 378, 'five': 379, 'mama': 380, 'beg': 381, 'step': 382, 'smoke': 383, 'wings': 384, 'money': 385, 'apologize': 386, 'read': 387, 'tonight': 388, 'chuck': 389, 'sang': 390, 'put': 391, 'armchair': 392, 'skies': 393, 'qui': 394, 'fountain': 395, 'shown': 396, 'comb': 397, 'special': 398, 'slow': 399, 'sending': 400, 'known': 401, \"feelin'\": 402, 'mary': 403, 'fly': 404, 'lovers': 405, 'play': 406, 'smiles': 407, 'news': 408, 'early': 409, \"pepper's\": 410, 'snow': 411, 'laughs': 412, 'sold': 413, 'share': 414, 'bla': 415, 'street': 416, 'looking': 417, 'heard': 418, 'clowns': 419, 'clear': 420, 'boy': 421, 'letters': 422, \"di'n'di\": 423, 'fields': 424, 'meadows': 425, 'puts': 426, 'lie': 427, 'troubles': 428, \"mother's\": 429, 'cried': 430, 'brother': 431, 'surely': 432, 'around': 433, 'closed': 434, 'poppies': 435, 'birthday': 436, 'jai': 437, 'got': 438, 'bompa': 439, 'mistake': 440, 'hourglass': 441, 'taxman': 442, 'make': 443, 'somehow': 444, 'chance': 445, 'chicka': 446, 'fuse': 447, 'meander': 448, \"dog's\": 449, 'dies': 450, 'scrimp': 451, 'eiffel': 452, 'nobody': 453, 'writing': 454, 'feeling': 455, 'showing': 456, 'indicate': 457, 'wants': 458, 'fortune': 459, 'obscene': 460, 'magic': 461, 'ride': 462, 'comrade': 463, 'holes': 464, 'taxis': 465, 'tear': 466, 'daisy': 467, 'hit': 468, 'homeward': 469, 'well': 470, 'barrow': 471, 'realized': 472, 'true': 473, 'climbing': 474, 'picks': 475, 'door': 476, 'behind': 477, 'follow': 478, 'rock': 479, 'insane': 480, 'photograph': 481, 'neighborhood': 482, 'class': 483, 'local': 484, 'told': 485, 'still': 486, 'roses': 487, 'beneath': 488, 'sits': 489, 'sincerely': 490, 'singing': 491, 'sounds': 492, 'polythene': 493, 'hold': 494, 'big': 495, 'eyeballs': 496, 'screaming': 497, 'rocky': 498, 'time': 499, 'lifetime': 500, 'socks': 501, 'magazine': 502, 'crawled': 503, 'lucy': 504, 'seeing': 505, 'walrus': 506, 'feel': 507, 'smokers': 508, 'thankful': 509, 'crowd': 510, 'audience': 511, 'canary': 512, 'hide': 513, 'words': 514, 'anytime': 515, 'sit': 516, 'limousine': 517, 'church': 518, 'quite': 519, 'hello': 520, 'sweet': 521, 'sleeps': 522, 'sweaty': 523, 'guess': 524, 'even': 525, 'investigation': 526, 'football': 527, 'would': 528, 'alright': 529, 'melting': 530, 'sure': 531, 'farm': 532, 'yay': 533, 'lullaby': 534, 'raise': 535, 'rain': 536, 'judge': 537, 'shade': 538, 'whats': 539, 'shake': 540, 'pretty': 541, 'house': 542, 'fair': 543, 'sermon': 544, 'shadow': 545, 'right': 546, 'baby': 547, 'kids': 548, 'doo': 549, 'disease': 550, 'film': 551, 'low': 552, 'penguin': 553, 'single': 554, 'went': 555, 'rival': 556, 'stood': 557, 'always': 558, 'sleeping': 559, 'anyone': 560, 'sing': 561, 'cocker': 562, 'destruction': 563, 'land': 564, 'boac': 565, 'nine': 566, 'really': 567, 'grow': 568, 'heart': 569, 'cold': 570, 'blue': 571, 'measured': 572, 'need': 573, 'finger': 574, 'pocket': 575, 'shelter': 576, 'greet': 577, 'fire': 578, 'sty': 579, 'eleanor': 580, 'pilchard': 581, 'submarine': 582, 'thing': 583, 'dose': 584, 'remain': 585, 'sorry': 586, 'ease': 587, 'whisper': 588, 'tube': 589, 'gonna': 590, 'winding': 591, \"nothing's\": 592, 'drop': 593, 'production': 594, 'assured': 595, 'tell': 596, \"gideon's\": 597, 'green': 598, 'science': 599, 'priestess': 600, 'sight': 601, 'doc': 602, 'best': 603, 'came': 604, 'somewhere': 605, 'recall': 606, 'winter': 607, 'alone': 608, 'changes': 609, 'brings': 610, 'anywhere': 611, 'caressing': 612, 'college': 613, 'undying': 614, 'place': 615, 'tight': 616, 'cake': 617, 'curse': 618, 'late': 619, 'long': 620, 'raincoats': 621, 'drag': 622, \"he's\": 623, 'haze': 624, 'instead': 625, 'lancashire': 626, 'strange': 627, 'equal': 628, 'burning': 629, 'log': 630, 'dog': 631, 'minute': 632, 'song': 633, 'woos': 634, 'hilt': 635, 'thoughts': 636, 'thousand': 637, 'imitate': 638, 'buy': 639, 'foot': 640, 'knee': 641, 'loner': 642, 'harm': 643, 'spoon': 644, 'sometimes': 645, 'end': 646, 'might': 647, 'alerted': 648, 'send': 649, 'good': 650, 'said': 651, 'stare': 652, 'wasting': 653, 'turns': 654, 'picture': 655, 'hills': 656, 'slither': 657, 'yard': 658, 'room': 659, 'sees': 660, 'died': 661, 'whoa': 662, 'note': 663, 'touch': 664, 'gently': 665, 'hill': 666, 'wiping': 667, 'pataphysical': 668, 'danny': 669, 'trolley': 670, 'pony': 671, 'hole': 672, 'leaving': 673, 'girl': 674, 'dreadful': 675, 'king': 676, 'captain': 677, 'think': 678, 'await': 679, 'corner': 680, 'wedding': 681, 'sack': 682, 'tower': 683, 'wake': 684, 'drifting': 685, 'heat': 686, 'steal': 687, 'roll': 688, 'photographs': 689, 'studied': 690, 'seventeen': 691, 'goo': 692, 'reason': 693, 'nineteen': 694, 'sitting': 695, 'marketplace': 696, 'tucson': 697, 'negotiations': 698, 'choking': 699, 'looked': 700, 'chasing': 701, 'woke': 702, 'dancer': 703, 'pictures': 704, 'leisure': 705, 'air': 706, 'certain': 707, 'pornographic': 708, 'krishna': 709, 'let': 710, 'real': 711, 'motorcar': 712, 'dragged': 713, 'write': 714, 'named': 715, 'sunken': 716, 'book': 717, 'flown': 718, 'stick': 719, 'knows': 720, 'hall': 721, 'vain': 722, 'walking': 723, 'appreciate': 724, 'places': 725, 'needed': 726, 'living': 727, 'lucky': 728, 'lead': 729, 'trust': 730, 'flowing': 731, 'mac': 732, \"tuesday's\": 733, 'disagree': 734, 'sea': 735, 'smile': 736, 'brown': 737, 'hurt': 738, \"we'd\": 739, 'monday': 740, 'getting': 741, 'garden': 742, 'top': 743, 'maintains': 744, 'digging': 745, 'banks': 746, 'cloudy': 747, 'wall': 748, \"anybody's\": 749, 'darkness': 750, 'weeks': 751, 'speed': 752, 'floor': 753, 'sung': 754, 'eight': 755, 'state': 756, 'climb': 757, 'straight': 758, 'must': 759, 'park': 760, 'ferdy': 761, 'bottle': 762, 'upstairs': 763, 'knowing': 764, \"mem'ries\": 765, 'grandchildren': 766, 'new': 767, 'killer': 768, 'key': 769, 'painting': 770, 'pam': 771, 'kind': 772, 'portrait': 773, 'solution': 774, 'likes': 775, 'river': 776, 'laugh': 777, 'snide': 778, 'wearing': 779, 'golden': 780, 'flew': 781, 'listen': 782, 'tax': 783, 'returning': 784, 'van': 785, 'dead': 786, 'jobber': 787, 'may': 788, 'cornflake': 789, 'spinal': 790, 'dark': 791, 'inside': 792, 'bridge': 793, \"your's\": 794, 'ensemble': 795, 'blindly': 796, 'cup': 797, 'chorus': 798, 'ever': 799, 'per': 800, 'nose': 801, 'could': 802, 'someday': 803, 'wildly': 804, 'thirty': 805, 'compares': 806, 'used': 807, 'heaven': 808, 'innocence': 809, 'three': 810, 'parasol': 811, 'lonely': 812, 'joker': 813, 'nearly': 814, 'jar': 815, 'chop': 816, 'neighbors': 817, 'bad': 818, \"rocky's\": 819, 'wigwam': 820, 'sorrow': 821, 'catch': 822, 'anymore': 823, 'dreamer': 824, 'diamonds': 825, 'yeah': 826, 'way': 827, 'middle': 828, 'ono': 829, 'wight': 830, 'keeps': 831, 'hunger': 832, 'hog': 833, 'missing': 834, 'tryin': 835, 'short': 836, 'grin': 837, 'everybody': 838, 'cloud': 839, 'earn': 840, 'expert': 841, 'carry': 842, 'gin': 843, 'marmalade': 844, 'stand': 845, 'perverted': 846, 'sunny': 847, \"groovin'\": 848, 'villain': 849, 'hanging': 850, \"they've\": 851, 'brotherhood': 852, 'watching': 853, 'hot': 854, 'pool': 855, \"goin'\": 856, 'ears': 857, 'hela': 858, 'legs': 859, 'hell': 860, 'pepper': 861, 'monkey': 862, 'box': 863, 'afraid': 864, 'shining': 865, 'belle': 866, 'appears': 867, 'wave': 868, 'boat': 869, 'find': 870, 'compare': 871, 'slumbers': 872, 'gave': 873, 'owww': 874, 'army': 875, 'promise': 876, 'past': 877, 'rise': 878, 'warning': 879, 'built': 880, 'feed': 881, 'much': 882, 'try': 883, 'rope': 884, 'evolution': 885, 'possessions': 886, 'hare': 887, 'rug': 888, 'unpack': 889, 'name': 890, 'shady': 891, 'road': 892, 'bed': 893, 'hand': 894, 'half': 895, 'working': 896, 'case': 897, 'arise': 898, 'silver': 899, 'wears': 900, 'jam': 901, 'postcards': 902, 'lies': 903, 'custard': 904, 'creeps': 905, 'paper': 906, 'laughter': 907, 'ways': 908, 'care': 909, 'complaining': 910, 'feelings': 911, 'million': 912, 'game': 913, \"they're\": 914, 'misunderstanding': 915, 'burns': 916, 'defelice': 917, 'hears': 918, 'tumble': 919, 'invitations': 920, 'promises': 921, 'anyhow': 922, 'colder': 923, 'lords': 924, 'hung': 925, 'tree': 926, 'juba': 927, 'wink': 928, 'miss': 929, 'rose': 930, 'talking': 931, 'awoke': 932, 'bye': 933, 'knickers': 934, 'sucks': 935, 'affection': 936, 'fishwife': 937, \"georgia's\": 938, 'eat': 939, 'round': 940, 'acts': 941, 'testimonial': 942, 'night': 943, 'cat': 944, 'small': 945, 'sgt': 946, 'tired': 947, 'ship': 948, 'jude': 949, 'hate': 950, 'answer': 951, 'pouring': 952, 'greetings': 953, 'gee': 954, 'tenderly': 955, 'satisfied': 956, 'lovely': 957, 'call': 958, 'holy': 959, 'kissing': 960, 'dear': 961, \"they'd\": 962, 'front': 963, 'job': 964, 'train': 965, 'white': 966, 'save': 967, 'shoeshine': 968, 'mattered': 969, 'sixty': 970, 'customer': 971, 'command': 972, 'twist': 973, 'flowers': 974, 'life': 975, 'gallery': 976, 'awake': 977, 'begin': 978, 'dot': 979, 'old': 980, 'situation': 981, 'beside': 982, 'sings': 983, 'wonder': 984, 'friend': 985, 'one': 986, 'stay': 987, 'beautiful': 988, 'handy': 989, 'pigs': 990, 'teacher': 991, 'frightened': 992, 'dream': 993, 'ringing': 994, 'opened': 995, 'oan': 996, 'heba': 997, 'else': 998, 'greed': 999, \"daddy's\": 1000, 'tells': 1001, 'plan': 1002, 'rushes': 1003, 'cha': 1004, 'roller': 1005, 'religion': 1006, 'child': 1007, 'ene': 1008, 'two': 1009, 'wine': 1010, 'sleep': 1011, 'controlled': 1012, 'city': 1013, 'rigby': 1014, 'red': 1015, 'postcard': 1016, 'inciting': 1017, 'close': 1018, 'gives': 1019, 'tanta': 1020, 'cool': 1021, 'stealing': 1022, 'worth': 1023, 'winging': 1024, 'tray': 1025, \"we're\": 1026, 'bulldog': 1027, 'engine': 1028, 'flight': 1029, 'first': 1030, 'closer': 1031, 'bra': 1032, 'joan': 1033, 'blind': 1034, 'cent': 1035, 'resting': 1036, 'max': 1037, 'band': 1038, 'jojo': 1039, 'dirty': 1040, 'lips': 1041, 'work': 1042, 'pararazzi': 1043, 'loud': 1044, 'wisdom': 1045, \"can't\": 1046, 'ooh': 1047, 'daniel': 1048, \"someone's\": 1049, 'moment': 1050, 'club': 1051, 'knew': 1052, 'hey': 1053, 'keep': 1054, 'mine': 1055, 'lights': 1056, 'almost': 1057, 'bus': 1058, 'stars': 1059, 'desmond': 1060, 'die': 1061, 'understood': 1062, 'nancy': 1063, 'evening': 1064, 'called': 1065, 'evermore': 1066, 'sad': 1067, 'calling': 1068, \"'til\": 1069, 'tried': 1070, 'keeping': 1071, 'kid': 1072, 'checked': 1073, 'bathroom': 1074, 'shoot': 1075, 'policeman': 1076, 'since': 1077, 'things': 1078, 'woo': 1079, 'anybody': 1080, 'pretend': 1081, 'feet': 1082, 'latches': 1083, 'voices': 1084, 'stared': 1085, 'somebody': 1086, 'kiss': 1087, 'left': 1088, 'earned': 1089, 'blow': 1090, 'number': 1091, 'many': 1092, 'girls': 1093, 'joke': 1094, 'cry': 1095, 'show': 1096, 'rob': 1097, 'foolish': 1098, \"singer's\": 1099, 'meanwhile': 1100, 'drift': 1101, 'jackboots': 1102, 'learning': 1103, 'bom': 1104, 'downstairs': 1105, 'seemed': 1106, 'corazon': 1107, 'sister': 1108, 'shoulders': 1109, 'cracker': 1110, 'laughing': 1111, 'walked': 1112, 'rolling': 1113, 'changing': 1114, 'woman': 1115, 'doors': 1116, 'laundromat': 1117, 'lasts': 1118, 'turnstile': 1119, 'beyond': 1120, \"she'd\": 1121, 'hmm': 1122, 'annoyed': 1123, 'ice': 1124, 'jackknife': 1125, 'fragrant': 1126, 'standing': 1127, 'boatswain': 1128, 'seat': 1129, 'able': 1130, 'letter': 1131, 'disappear': 1132, \"majesty's\": 1133, 'trees': 1134, 'moon': 1135, 'weeds': 1136, 'thumb': 1137, 'celebrate': 1138, 'buried': 1139, 'inviting': 1140, 'crabalocker': 1141, 'tangerine': 1142, 'darning': 1143, 'grade': 1144, 'unpleasant': 1145, \"that's\": 1146, 'young': 1147, 'pleasing': 1148, \"i'll\": 1149, 'matches': 1150, \"he'd\": 1151, 'warm': 1152, 'honey': 1153, 'maxwell': 1154, 'diamond': 1155, 'plans': 1156, 'open': 1157, 'advice': 1158, 'lover': 1159, 'attractively': 1160, 'makes': 1161, 'nothing': 1162, 'help': 1163, 'grass': 1164, 'everything': 1165, 'believing': 1166, 'fill': 1167, 'father': 1168, 'bags': 1169, 'naughty': 1170, 'crossed': 1171, 'noise': 1172, 'although': 1173, 'hammer': 1174, 'lost': 1175, 'buys': 1176, \"somethin'\": 1177, 'dave': 1178, 'broke': 1179, 'molly': 1180, 'miles': 1181, 'days': 1182, 'mind': 1183, 'thought': 1184, 'lends': 1185, 'spending': 1186, 'spinning': 1187, 'mustard': 1188, 'morning': 1189, 'ties': 1190, 'english': 1191, 'style': 1192, 'remember': 1193, 'eggmen': 1194, 'fed': 1195, 'corporation': 1196, 'drive': 1197, 'amore': 1198, 'match': 1199, 'gets': 1200, \"maxwell's\": 1201, 'faces': 1202, 'glass': 1203, 'slept': 1204, 'edison': 1205, 'insecure': 1206, 'sheepdog': 1207, \"money's\": 1208, 'hair': 1209, 'suburban': 1210, 'plasticine': 1211, 'tacks': 1212, 'wood': 1213, 'believe': 1214, 'memories': 1215, 'happens': 1216, 'kaleidoscope': 1217, 'proud': 1218, 'moan': 1219, 'gumboot': 1220, 'spaniel': 1221, 'eyes': 1222, 'stop': 1223, 'clue': 1224, 'lot': 1225, \"octopus'\": 1226, 'nights': 1227, 'started': 1228, 'missed': 1229, 'hearted': 1230, 'teachers': 1231, 'roundabout': 1232, 'sound': 1233, 'driving': 1234, 'universe': 1235, 'years': 1236, 'full': 1237, 'lived': 1238, 'begins': 1239, 'quizzical': 1240, 'clubs': 1241, 'muddy': 1242, 'majoring': 1243, 'proceeded': 1244, 'moscow': 1245, 'penny': 1246, 'helloa': 1247, 'wonders': 1248, 'across': 1249, 'magill': 1250, 'bath': 1251, 'asking': 1252, 'free': 1253, 'dew': 1254, 'solitude': 1255, 'mother': 1256, 'fine': 1257, 'enough': 1258, 'putting': 1259, 'drink': 1260, 'fifty': 1261, 'raleigh': 1262, 'norwegian': 1263, 'six': 1264, \"'cause\": 1265, 'school': 1266, 'thrill': 1267, 'quando': 1268, 'stops': 1269, 'shout': 1270, 'loved': 1271, 'bullfrog': 1272, 'belong': 1273, 'stretches': 1274, 'love': 1275, 'bible': 1276, 'hard': 1277, 'worked': 1278, 'losing': 1279, 'turn': 1280, 'drinking': 1281, 'next': 1282, 'saved': 1283, 'hula': 1284, 'aaaaahhhhhhhhhh': 1285, 'poop': 1286, 'kicking': 1287, 'trim': 1288, 'wishing': 1289, 'loving': 1290, 'independence': 1291, 'lets': 1292, 'another': 1293, 'view': 1294, 'carrying': 1295, 'storm': 1296, 'held': 1297, 'leave': 1298, 'anyway': 1299, 'tears': 1300, 'born': 1301, 'eggman': 1302, 'spent': 1303, 'easy': 1304, 'coming': 1305, 'tune': 1306, 'stays': 1307, 'start': 1308, 'singer': 1309, 'ten': 1310, 'hoop': 1311, 'cellophane': 1312, 'asked': 1313, 'equipped': 1314, 'holding': 1315, 'sunday': 1316, 'break': 1317, 'hoe': 1318, 'set': 1319, 'behave': 1320, 'woah': 1321, 'rice': 1322, 'walk': 1323, 'lup': 1324, 'mots': 1325, 'waves': 1326, 'deva': 1327, 'falling': 1328, 'light': 1329, 'biding': 1330, 'shine': 1331, 'plays': 1332, 'chairman': 1333, 'cos': 1334, 'back': 1335, 'joob': 1336, 'making': 1337, 'bring': 1338, 'load': 1339, \"we'll\": 1340, 'younger': 1341, 'seems': 1342, 'happy': 1343, 'peace': 1344, 'lane': 1345, 'telling': 1346, 'ready': 1347, 'world': 1348, 'lives': 1349, 'precisely': 1350, 'shaves': 1351, 'hurry': 1352, 'limitless': 1353, 'people': 1354, \"m'mm\": 1355, 'dig': 1356, 'hear': 1357, 'danced': 1358, 'aaaaaahhhhhh': 1359, 'mending': 1360, 'says': 1361, 'countries': 1362, 'gun': 1363, 'lorry': 1364, 'diverted': 1365, 'slowly': 1366, 'point': 1367, 'bup': 1368, 'live': 1369, 'stupid': 1370, 'understands': 1371, 'wind': 1372, 'summer': 1373, 'run': 1374, 'tomorrow': 1375, 'walks': 1376, \"day's\": 1377, 'slip': 1378, 'fool': 1379, 'wonderful': 1380, 'pleasure': 1381, 'peaked': 1382, \"i'd\": 1383, 'everyone': 1384, 'refrain': 1385, 'longer': 1386, 'see': 1387, 'gum': 1388, 'sail': 1389, 'hands': 1390, \"everybody's\": 1391, 'hideaway': 1392, 'needs': 1393, 'away': 1394, \"sunday's\": 1395, 'lagoon': 1396, 'dreams': 1397, 'syndicate': 1398, 'forever': 1399, 'taught': 1400, 'incredibly': 1401, 'weight': 1402, 'running': 1403, 'bird': 1404, 'blows': 1405, 'near': 1406, 'spoke': 1407, 'forget': 1408, 'strawberry': 1409, 'yesterday': 1410, 'often': 1411, 'count': 1412, 'weeps': 1413, 'tan': 1414, 'gone': 1415, 'towering': 1416, 'barber': 1417, 'done': 1418, 'couple': 1419, 'dirt': 1420, 'valentine': 1421, 'joy': 1422, 'police': 1423, 'nowhere': 1424, 'wipe': 1425, 'upset': 1426, 'fifteen': 1427, 'porters': 1428, 'glad': 1429, 'earth': 1430, 'knit': 1431, 'waiting': 1432, 'prudence': 1433, 'far': 1434, 'drank': 1435, 'shears': 1436, 'cottage': 1437, 'win': 1438, 'skip': 1439, 'dance': 1440, 'contribution': 1441, \"junior's\": 1442, 'les': 1443, 'pick': 1444, 'drew': 1445, 'crime': 1446, 'get': 1447, 'deny': 1448, 'hat': 1449, 'high': 1450, 'fish': 1451, 'ukraine': 1452, 'story': 1453, 'semolina': 1454, 'safe': 1455, 'celebrations': 1456, \"i'm\": 1457, 'row': 1458, 'broken': 1459, 'hoping': 1460, 'john': 1461, 'talk': 1462, 'shop': 1463, 'moments': 1464, 'clothes': 1465, 'loves': 1466}\n",
      "Training Data Generated for 0 Tokens\n",
      "Training Data Generated for 1000 Tokens\n",
      "Training Data Generated for 2000 Tokens\n",
      "Training Data Generated for 3000 Tokens\n",
      "Training Data Generated for 4000 Tokens\n",
      "Training Data Generated for 5000 Tokens\n",
      "Training Data Generated for 6000 Tokens\n",
      "Training Data Generated for 7000 Tokens\n",
      "Training Data Generated\n",
      "(43548, 1467)\n"
     ]
    }
   ],
   "source": [
    "lyrics_file = open('beatles.txt', 'r')\n",
    "text = lyrics_file.read()\n",
    "lyrics_file.close()\n",
    "\n",
    "def tokenize(text):\n",
    "    pattern = re.compile(r'[A-Za-z]+[\\w^\\']*|[\\w^\\']*[A-Za-z]+[\\w^\\']*')\n",
    "    return pattern.findall(text.lower())\n",
    "\n",
    "def preprocess(tokens):\n",
    "    tokens_processed = []\n",
    "    for words in tokens:\n",
    "        if words in stop_words:\n",
    "            continue\n",
    "        if len(words) <= 2:\n",
    "            continue\n",
    "\n",
    "        tokens_processed.append(words)\n",
    "\n",
    "    print(str(len(tokens_processed)) + ' tokens generated')\n",
    "    return tokens_processed\n",
    "\n",
    "def mapping(tokens):\n",
    "    word_to_id = {}\n",
    "    id_to_word = {}\n",
    "\n",
    "    for i, token in enumerate(set(tokens)):\n",
    "        word_to_id[token] = i\n",
    "        id_to_word[i] = token\n",
    "\n",
    "    print('Token Mapping Complete')\n",
    "\n",
    "    return word_to_id, id_to_word\n",
    "\n",
    "def generate_training_data(tokens, word_to_id, window):\n",
    "    X = []\n",
    "    y = []\n",
    "    n_tokens = len(tokens)\n",
    "\n",
    "    for i in range(n_tokens):\n",
    "        idx = concat(\n",
    "            range(max(0, i - window), i),\n",
    "            range(i, min(n_tokens, i + window + 1))\n",
    "        )\n",
    "        i_id = word_to_id[tokens[i]]\n",
    "        for j in idx:\n",
    "            if i == j:\n",
    "                continue\n",
    "            X.append(one_hot_encode(i_id, len(word_to_id)))\n",
    "            y.append(one_hot_encode(word_to_id[tokens[j]], len(word_to_id)))\n",
    "\n",
    "        if i%1000 == 0:\n",
    "            print('Training Data Generated for ' + str(i) + ' Tokens')\n",
    "\n",
    "    print('Training Data Generated')\n",
    "    return np.array(X), np.array(y)\n",
    "\n",
    "def concat(*iterables):\n",
    "    for iterable in iterables:\n",
    "        yield from iterable\n",
    "\n",
    "def one_hot_encode(id, vocab_size):\n",
    "    res = [0] * vocab_size\n",
    "    res[id] = 1\n",
    "    return res\n",
    "\n",
    "tokens = preprocess(tokenize(text))\n",
    "\n",
    "word_to_id, id_to_word = mapping(tokens)\n",
    "print(word_to_id)\n",
    "\n",
    "X, y = generate_training_data(tokens, word_to_id, 3)\n",
    "\n",
    "print(X.shape)"
   ]
  },
  {
   "cell_type": "code",
   "execution_count": 18,
   "metadata": {
    "pycharm": {
     "name": "#%%\n"
    }
   },
   "outputs": [
    {
     "name": "stdout",
     "output_type": "stream",
     "text": [
      "Epoch 1/100\n",
      "341/341 [==============================] - 4s 9ms/step - loss: 6.4245 - accuracy: 0.0532\n",
      "Epoch 2/100\n",
      "341/341 [==============================] - 3s 9ms/step - loss: 5.9165 - accuracy: 0.0822\n",
      "Epoch 3/100\n",
      "341/341 [==============================] - 2s 7ms/step - loss: 5.6056 - accuracy: 0.1133\n",
      "Epoch 4/100\n",
      "341/341 [==============================] - 2s 7ms/step - loss: 5.3263 - accuracy: 0.1313\n",
      "Epoch 5/100\n",
      "341/341 [==============================] - 3s 7ms/step - loss: 5.0763 - accuracy: 0.1437\n",
      "Epoch 6/100\n",
      "341/341 [==============================] - 3s 9ms/step - loss: 4.8549 - accuracy: 0.1531\n",
      "Epoch 7/100\n",
      "341/341 [==============================] - 3s 9ms/step - loss: 4.6547 - accuracy: 0.1599\n",
      "Epoch 8/100\n",
      "341/341 [==============================] - 3s 8ms/step - loss: 4.4721 - accuracy: 0.1642\n",
      "Epoch 9/100\n",
      "341/341 [==============================] - 2s 7ms/step - loss: 4.3064 - accuracy: 0.1663\n",
      "Epoch 10/100\n",
      "341/341 [==============================] - 2s 7ms/step - loss: 4.1615 - accuracy: 0.1663\n",
      "Epoch 11/100\n",
      "341/341 [==============================] - 2s 7ms/step - loss: 4.0332 - accuracy: 0.1667\n",
      "Epoch 12/100\n",
      "341/341 [==============================] - 3s 8ms/step - loss: 3.9224 - accuracy: 0.1659\n",
      "Epoch 13/100\n",
      "341/341 [==============================] - 3s 8ms/step - loss: 3.8252 - accuracy: 0.1653\n",
      "Epoch 14/100\n",
      "341/341 [==============================] - 3s 8ms/step - loss: 3.7461 - accuracy: 0.1660\n",
      "Epoch 15/100\n",
      "341/341 [==============================] - 2s 7ms/step - loss: 3.6793 - accuracy: 0.1662\n",
      "Epoch 16/100\n",
      "341/341 [==============================] - 2s 7ms/step - loss: 3.6230 - accuracy: 0.1674\n",
      "Epoch 17/100\n",
      "341/341 [==============================] - 2s 7ms/step - loss: 3.5769 - accuracy: 0.1672\n",
      "Epoch 18/100\n",
      "341/341 [==============================] - 2s 7ms/step - loss: 3.5378 - accuracy: 0.1664\n",
      "Epoch 19/100\n",
      "341/341 [==============================] - 2s 7ms/step - loss: 3.5033 - accuracy: 0.1670\n",
      "Epoch 20/100\n",
      "341/341 [==============================] - 2s 7ms/step - loss: 3.4729 - accuracy: 0.1660\n",
      "Epoch 21/100\n",
      "341/341 [==============================] - 2s 7ms/step - loss: 3.4465 - accuracy: 0.1676\n",
      "Epoch 22/100\n",
      "341/341 [==============================] - 2s 7ms/step - loss: 3.4217 - accuracy: 0.1677\n",
      "Epoch 23/100\n",
      "341/341 [==============================] - 2s 6ms/step - loss: 3.4011 - accuracy: 0.1659\n",
      "Epoch 24/100\n",
      "341/341 [==============================] - 2s 7ms/step - loss: 3.3813 - accuracy: 0.1681\n",
      "Epoch 25/100\n",
      "341/341 [==============================] - 2s 7ms/step - loss: 3.3644 - accuracy: 0.1689\n",
      "Epoch 26/100\n",
      "341/341 [==============================] - 2s 7ms/step - loss: 3.3489 - accuracy: 0.1684\n",
      "Epoch 27/100\n",
      "341/341 [==============================] - 2s 7ms/step - loss: 3.3349 - accuracy: 0.1681\n",
      "Epoch 28/100\n",
      "341/341 [==============================] - 2s 7ms/step - loss: 3.3214 - accuracy: 0.1678\n",
      "Epoch 29/100\n",
      "341/341 [==============================] - 2s 6ms/step - loss: 3.3103 - accuracy: 0.1664\n",
      "Epoch 30/100\n",
      "341/341 [==============================] - 2s 6ms/step - loss: 3.2985 - accuracy: 0.1682\n",
      "Epoch 31/100\n",
      "341/341 [==============================] - 2s 7ms/step - loss: 3.2891 - accuracy: 0.1686\n",
      "Epoch 32/100\n",
      "341/341 [==============================] - 2s 7ms/step - loss: 3.2790 - accuracy: 0.1682\n",
      "Epoch 33/100\n",
      "341/341 [==============================] - 2s 7ms/step - loss: 3.2712 - accuracy: 0.1671\n",
      "Epoch 34/100\n",
      "341/341 [==============================] - 2s 7ms/step - loss: 3.2634 - accuracy: 0.1657\n",
      "Epoch 35/100\n",
      "341/341 [==============================] - 2s 7ms/step - loss: 3.2552 - accuracy: 0.1660\n",
      "Epoch 36/100\n",
      "341/341 [==============================] - 2s 7ms/step - loss: 3.2491 - accuracy: 0.1661\n",
      "Epoch 37/100\n",
      "341/341 [==============================] - 2s 7ms/step - loss: 3.2431 - accuracy: 0.1661\n",
      "Epoch 38/100\n",
      "341/341 [==============================] - 2s 7ms/step - loss: 3.2376 - accuracy: 0.1659\n",
      "Epoch 39/100\n",
      "341/341 [==============================] - 2s 7ms/step - loss: 3.2319 - accuracy: 0.1676\n",
      "Epoch 40/100\n",
      "341/341 [==============================] - 2s 7ms/step - loss: 3.2269 - accuracy: 0.1660\n",
      "Epoch 41/100\n",
      "341/341 [==============================] - 2s 7ms/step - loss: 3.2230 - accuracy: 0.1666\n",
      "Epoch 42/100\n",
      "341/341 [==============================] - 2s 7ms/step - loss: 3.2176 - accuracy: 0.1666\n",
      "Epoch 43/100\n",
      "341/341 [==============================] - 2s 7ms/step - loss: 3.2154 - accuracy: 0.1654\n",
      "Epoch 44/100\n",
      "341/341 [==============================] - 2s 7ms/step - loss: 3.2090 - accuracy: 0.1673\n",
      "Epoch 45/100\n",
      "341/341 [==============================] - 2s 7ms/step - loss: 3.2063 - accuracy: 0.1660\n",
      "Epoch 46/100\n",
      "341/341 [==============================] - 3s 8ms/step - loss: 3.2034 - accuracy: 0.1656\n",
      "Epoch 47/100\n",
      "341/341 [==============================] - 2s 7ms/step - loss: 3.1992 - accuracy: 0.1647\n",
      "Epoch 48/100\n",
      "341/341 [==============================] - 2s 7ms/step - loss: 3.1966 - accuracy: 0.1677\n",
      "Epoch 49/100\n",
      "341/341 [==============================] - 2s 7ms/step - loss: 3.1940 - accuracy: 0.1638\n",
      "Epoch 50/100\n",
      "341/341 [==============================] - 2s 6ms/step - loss: 3.1912 - accuracy: 0.1661\n",
      "Epoch 51/100\n",
      "341/341 [==============================] - 2s 7ms/step - loss: 3.1881 - accuracy: 0.1659\n",
      "Epoch 52/100\n",
      "341/341 [==============================] - 3s 7ms/step - loss: 3.1864 - accuracy: 0.1655\n",
      "Epoch 53/100\n",
      "341/341 [==============================] - 2s 7ms/step - loss: 3.1843 - accuracy: 0.1654\n",
      "Epoch 54/100\n",
      "341/341 [==============================] - 3s 7ms/step - loss: 3.1823 - accuracy: 0.1657\n",
      "Epoch 55/100\n",
      "341/341 [==============================] - 2s 7ms/step - loss: 3.1793 - accuracy: 0.1665\n",
      "Epoch 56/100\n",
      "341/341 [==============================] - 2s 7ms/step - loss: 3.1782 - accuracy: 0.1649\n",
      "Epoch 57/100\n",
      "341/341 [==============================] - 2s 7ms/step - loss: 3.1750 - accuracy: 0.1640\n",
      "Epoch 58/100\n",
      "341/341 [==============================] - 3s 8ms/step - loss: 3.1735 - accuracy: 0.1661\n",
      "Epoch 59/100\n",
      "341/341 [==============================] - 3s 8ms/step - loss: 3.1733 - accuracy: 0.1652\n",
      "Epoch 60/100\n",
      "341/341 [==============================] - 2s 7ms/step - loss: 3.1705 - accuracy: 0.1651\n",
      "Epoch 61/100\n",
      "341/341 [==============================] - 2s 7ms/step - loss: 3.1690 - accuracy: 0.1662\n",
      "Epoch 62/100\n",
      "341/341 [==============================] - 2s 7ms/step - loss: 3.1677 - accuracy: 0.1651\n",
      "Epoch 63/100\n",
      "341/341 [==============================] - 2s 7ms/step - loss: 3.1668 - accuracy: 0.1644\n",
      "Epoch 64/100\n",
      "341/341 [==============================] - 2s 7ms/step - loss: 3.1646 - accuracy: 0.1660\n",
      "Epoch 65/100\n",
      "341/341 [==============================] - 2s 7ms/step - loss: 3.1641 - accuracy: 0.1647\n",
      "Epoch 66/100\n",
      "341/341 [==============================] - 2s 7ms/step - loss: 3.1625 - accuracy: 0.1657\n",
      "Epoch 67/100\n",
      "341/341 [==============================] - 2s 7ms/step - loss: 3.1603 - accuracy: 0.1665\n",
      "Epoch 68/100\n",
      "341/341 [==============================] - 2s 7ms/step - loss: 3.1592 - accuracy: 0.1643\n",
      "Epoch 69/100\n",
      "341/341 [==============================] - 2s 7ms/step - loss: 3.1591 - accuracy: 0.1653\n",
      "Epoch 70/100\n",
      "341/341 [==============================] - 2s 7ms/step - loss: 3.1568 - accuracy: 0.1643\n",
      "Epoch 71/100\n",
      "341/341 [==============================] - 2s 7ms/step - loss: 3.1564 - accuracy: 0.1646\n",
      "Epoch 72/100\n",
      "341/341 [==============================] - 3s 7ms/step - loss: 3.1555 - accuracy: 0.1652\n",
      "Epoch 73/100\n",
      "341/341 [==============================] - 2s 7ms/step - loss: 3.1549 - accuracy: 0.1644\n",
      "Epoch 74/100\n",
      "341/341 [==============================] - 2s 7ms/step - loss: 3.1533 - accuracy: 0.1653\n",
      "Epoch 75/100\n",
      "341/341 [==============================] - 2s 7ms/step - loss: 3.1528 - accuracy: 0.1639\n",
      "Epoch 76/100\n",
      "341/341 [==============================] - 2s 7ms/step - loss: 3.1513 - accuracy: 0.1665\n",
      "Epoch 77/100\n",
      "341/341 [==============================] - 2s 7ms/step - loss: 3.1511 - accuracy: 0.1653\n",
      "Epoch 78/100\n",
      "341/341 [==============================] - 3s 8ms/step - loss: 3.1506 - accuracy: 0.1640\n",
      "Epoch 79/100\n",
      "341/341 [==============================] - 3s 8ms/step - loss: 3.1494 - accuracy: 0.1630\n",
      "Epoch 80/100\n",
      "341/341 [==============================] - 3s 8ms/step - loss: 3.1497 - accuracy: 0.1638\n",
      "Epoch 81/100\n",
      "341/341 [==============================] - 3s 7ms/step - loss: 3.1480 - accuracy: 0.1662\n",
      "Epoch 82/100\n",
      "341/341 [==============================] - 2s 7ms/step - loss: 3.1468 - accuracy: 0.1640\n",
      "Epoch 83/100\n",
      "341/341 [==============================] - 3s 7ms/step - loss: 3.1473 - accuracy: 0.1648\n",
      "Epoch 84/100\n",
      "341/341 [==============================] - 3s 7ms/step - loss: 3.1466 - accuracy: 0.1641\n",
      "Epoch 85/100\n",
      "341/341 [==============================] - 3s 7ms/step - loss: 3.1452 - accuracy: 0.1649\n",
      "Epoch 86/100\n",
      "341/341 [==============================] - 2s 7ms/step - loss: 3.1443 - accuracy: 0.1633\n",
      "Epoch 87/100\n",
      "341/341 [==============================] - 2s 7ms/step - loss: 3.1438 - accuracy: 0.1639\n",
      "Epoch 88/100\n",
      "341/341 [==============================] - 2s 7ms/step - loss: 3.1432 - accuracy: 0.1641\n",
      "Epoch 89/100\n",
      "341/341 [==============================] - 2s 7ms/step - loss: 3.1435 - accuracy: 0.1657\n",
      "Epoch 90/100\n",
      "341/341 [==============================] - 2s 7ms/step - loss: 3.1435 - accuracy: 0.1632\n",
      "Epoch 91/100\n",
      "341/341 [==============================] - 3s 7ms/step - loss: 3.1422 - accuracy: 0.1631\n",
      "Epoch 92/100\n",
      "341/341 [==============================] - 2s 7ms/step - loss: 3.1413 - accuracy: 0.1645\n",
      "Epoch 93/100\n",
      "341/341 [==============================] - 2s 7ms/step - loss: 3.1408 - accuracy: 0.1650\n",
      "Epoch 94/100\n",
      "341/341 [==============================] - 2s 7ms/step - loss: 3.1410 - accuracy: 0.1636\n",
      "Epoch 95/100\n",
      "341/341 [==============================] - 2s 7ms/step - loss: 3.1399 - accuracy: 0.1626\n",
      "Epoch 96/100\n",
      "341/341 [==============================] - 2s 7ms/step - loss: 3.1390 - accuracy: 0.1649\n",
      "Epoch 97/100\n",
      "341/341 [==============================] - 2s 7ms/step - loss: 3.1387 - accuracy: 0.1641\n",
      "Epoch 98/100\n",
      "341/341 [==============================] - 2s 7ms/step - loss: 3.1380 - accuracy: 0.1638\n",
      "Epoch 99/100\n",
      "341/341 [==============================] - 2s 7ms/step - loss: 3.1379 - accuracy: 0.1641\n",
      "Epoch 100/100\n",
      "341/341 [==============================] - 2s 7ms/step - loss: 3.1374 - accuracy: 0.1640\n",
      "Model: \"sequential_2\"\n",
      "_________________________________________________________________\n",
      " Layer (type)                Output Shape              Param #   \n",
      "=================================================================\n",
      " dense_4 (Dense)             (None, 100)               146800    \n",
      "                                                                 \n",
      " dense_5 (Dense)             (None, 1467)              148167    \n",
      "                                                                 \n",
      "=================================================================\n",
      "Total params: 294,967\n",
      "Trainable params: 294,967\n",
      "Non-trainable params: 0\n",
      "_________________________________________________________________\n"
     ]
    }
   ],
   "source": [
    "num_neurons = X.shape[1]\n",
    "model = keras.Sequential()\n",
    "model.add(keras.layers.Dense(100, input_dim=num_neurons, activation='relu'))\n",
    "model.add(keras.layers.Dense(num_neurons, activation='softmax'))\n",
    "\n",
    "model.compile(optimizer='adam', loss=keras.losses.categorical_crossentropy, metrics=['accuracy'])\n",
    "history = model.fit(X, y, epochs=100, batch_size=128)\n",
    "model.summary()"
   ]
  },
  {
   "cell_type": "code",
   "execution_count": 19,
   "metadata": {
    "pycharm": {
     "name": "#%%\n"
    }
   },
   "outputs": [
    {
     "data": {
      "text/plain": [
       "Text(0.5, 1.0, 'Model Training Performance')"
      ]
     },
     "execution_count": 19,
     "metadata": {},
     "output_type": "execute_result"
    },
    {
     "data": {
      "image/png": "[encoded data removed]",
      "text/plain": [
       "<Figure size 432x288 with 1 Axes>"
      ]
     },
     "metadata": {
      "needs_background": "light"
     },
     "output_type": "display_data"
    }
   ],
   "source": [
    "plt.plot(history.history['loss'])\n",
    "plt.title('Model Training Performance')"
   ]
  },
  {
   "cell_type": "markdown",
   "metadata": {
    "pycharm": {
     "name": "#%% md\n"
    }
   },
   "source": []
  },
  {
   "cell_type": "code",
   "execution_count": 20,
   "metadata": {
    "pycharm": {
     "name": "#%%\n"
    }
   },
   "outputs": [
    {
     "name": "stdout",
     "output_type": "stream",
     "text": [
      "Model: \"model_2\"\n",
      "_________________________________________________________________\n",
      " Layer (type)                Output Shape              Param #   \n",
      "=================================================================\n",
      " dense_4_input (InputLayer)  [(None, 1467)]            0         \n",
      "                                                                 \n",
      " dense_4 (Dense)             (None, 100)               146800    \n",
      "                                                                 \n",
      "=================================================================\n",
      "Total params: 146,800\n",
      "Trainable params: 146,800\n",
      "Non-trainable params: 0\n",
      "_________________________________________________________________\n"
     ]
    }
   ],
   "source": [
    "model2 = keras.Model(inputs=model.inputs, outputs=model.layers[0].output)\n",
    "model2.summary()"
   ]
  },
  {
   "cell_type": "code",
   "execution_count": 21,
   "metadata": {
    "pycharm": {
     "name": "#%%\n"
    }
   },
   "outputs": [
    {
     "name": "stdout",
     "output_type": "stream",
     "text": [
      "46/46 [==============================] - 0s 2ms/step\n"
     ]
    }
   ],
   "source": [
    "word_vectors = []\n",
    "\n",
    "for i in range(num_neurons):\n",
    "    word_vectors.append(one_hot_encode(i, num_neurons))\n",
    "\n",
    "word_vectors = np.array(word_vectors)\n",
    "\n",
    "enc = model2.predict(word_vectors)"
   ]
  },
  {
   "cell_type": "code",
   "execution_count": 22,
   "metadata": {
    "pycharm": {
     "name": "#%%\n"
    }
   },
   "outputs": [
    {
     "name": "stdout",
     "output_type": "stream",
     "text": [
      "9008 tokens generated\n",
      "Token Mapping Complete\n",
      "{'four': 0, 'fun': 1, 'underneath': 2, 'arizona': 3, 'prison': 4, 'eggs': 5, 'pistol': 6, 'saloon': 7, 'sky': 8, 'guitar': 9, 'whose': 10, 'gypsies': 11, 'bob': 12, \"string's\": 13, 'tarry': 14, 'engineer': 15, 'want': 16, 'bent': 17, 'delaware': 18, 'springfield': 19, 'cooking': 20, 'cocaine': 21, 'canvas': 22, 'alibi': 23, 'bones': 24, 'interruption': 25, 'kill': 26, 'meant': 27, 'easier': 28, 'coat': 29, 'dumb': 30, 'tollaperson': 31, 'lying': 32, 'fix': 33, 'ago': 34, 'quit': 35, 'fancy': 36, 'finest': 37, 'wheeler': 38, 'kettledrum': 39, 'dry': 40, 'brighten': 41, 'bide': 42, 'sat': 43, 'fall': 44, 'marked': 45, 'killed': 46, 'telephone': 47, 'bright': 48, 'shines': 49, \"believen'\": 50, 'made': 51, 'friends': 52, 'grits': 53, \"bendin'\": 54, 'queen': 55, 'snowball': 56, 'lord': 57, 'serve': 58, 'jordan': 59, \"callin'\": 60, 'grande': 61, 'battled': 62, 'wreath': 63, \"lady's\": 64, 'cedar': 65, 'info': 66, 'service': 67, 'celebrated': 68, 'sunshine': 69, 'hah': 70, \"tho'\": 71, 'waving': 72, 'talked': 73, 'dropped': 74, 'music': 75, 'pennyweight': 76, 'lose': 77, 'word': 78, 'car': 79, 'youth': 80, 'cadallic': 81, 'planted': 82, \"'sembly\": 83, 'like': 84, 'pain': 85, 'rewarded': 86, 'thereon': 87, 'lamb': 88, 'lapaloma': 89, 'every': 90, 'soldier': 91, 'falls': 92, 'blood': 93, 'kinda': 94, 'blissful': 95, 'curls': 96, 'matter': 97, 'bout': 98, 'bell': 99, \"bullet's\": 100, 'happiness': 101, 'give': 102, 'rider': 103, 'water': 104, 'birds': 105, 'pima': 106, 'someone': 107, \"ain't\": 108, 'praise': 109, 'going': 110, 'agree': 111, 'turf': 112, 'fever': 113, 'packingham': 114, 'card': 115, 'tags': 116, 'showed': 117, 'echoed': 118, 'comes': 119, 'manna': 120, 'forevermore': 121, 'smells': 122, 'picker': 123, 'charity': 124, 'fireman': 125, 'ahead': 126, 'slipped': 127, 'clouds': 128, 'drifted': 129, \"microphone's\": 130, 'shore': 131, 'wear': 132, 'toronto': 133, 'kept': 134, 'stumbled': 135, 'wide': 136, 'mainsail': 137, 'fell': 138, 'perhaps': 139, 'railroad': 140, 'solitary': 141, 'waits': 142, \"we've\": 143, 'brought': 144, 'mite': 145, 'sailed': 146, 'thunder': 147, 'babe': 148, 'today': 149, 'davenport': 150, 'saying': 151, 'ground': 152, 'prick': 153, 'sirens': 154, 'blessings': 155, 'crawl': 156, 'gather': 157, 'ira': 158, 'ambitious': 159, 'ann': 160, 'sun': 161, 'steps': 162, 'mangy': 163, 'general': 164, 'tennessee': 165, 'grunt': 166, 'spring': 167, \"wearin'\": 168, 'mountain': 169, 'following': 170, 'hour': 171, 'hollywood': 172, 'form': 173, 'pots': 174, \"watchin'\": 175, 'thirst': 176, 'sheep': 177, 'fear': 178, 'upon': 179, 'billy': 180, 'thousands': 181, 'breakfast': 182, \"smilin'\": 183, 'threadbare': 184, \"how's\": 185, 'crying': 186, 'juarez': 187, 'paul': 188, 'piece': 189, 'never': 190, 'moved': 191, 'war': 192, 'hours': 193, 'rid': 194, 'shades': 195, 'fears': 196, 'mean': 197, 'casey': 198, \"yesterday's\": 199, 'hearts': 200, 'corn': 201, \"jove's\": 202, 'drunk': 203, 'rip': 204, 'speeched': 205, \"mountain's\": 206, 'empire': 207, 'hushed': 208, 'pasadena': 209, 'station': 210, 'though': 211, 'devised': 212, 'haired': 213, 'claim': 214, 'cheaper': 215, 'muscles': 216, 'looks': 217, 'sand': 218, 'sidewalk': 219, 'cut': 220, 'wound': 221, 'waterville': 222, 'phone': 223, 'tuesday': 224, 'fria': 225, 'gambler': 226, 'floated': 227, 'lesson': 228, 'jones': 229, 'francis': 230, 'pluming': 231, 'headed': 232, 'behold': 233, 'keg': 234, 'wrong': 235, 'trimming': 236, 'diamondtina': 237, 'bragg': 238, 'throne': 239, 'jackson': 240, 'bit': 241, 'sinner': 242, 'week': 243, 'seconds': 244, 'fellers': 245, 'jesse': 246, 'trembling': 247, \"bid'st\": 248, 'shined': 249, 'lifted': 250, 'grabbed': 251, 'mobile': 252, 'turning': 253, 'folk': 254, 'downstream': 255, 'dime': 256, 'semi': 257, 'wait': 258, 'quarter': 259, 'fits': 260, 'field': 261, 'blackest': 262, 'know': 263, 'boats': 264, 'steady': 265, 'doubt': 266, 'ashore': 267, 'degree': 268, 'coffee': 269, 'mack': 270, 'vinegar': 271, 'chair': 272, 'punched': 273, 'ohio': 274, 'grinned': 275, 'alamo': 276, 'cadillac': 277, 'mattua': 278, 'nervous': 279, 'fired': 280, \"there'll\": 281, 'likewise': 282, 'falter': 283, 'crazy': 284, 'meeting': 285, 'jury': 286, 'mule': 287, 'boys': 288, 'rush': 289, 'everywhere': 290, \"who've\": 291, 'sir': 292, 'washed': 293, 'machine': 294, 'popped': 295, 'slapped': 296, 'handsome': 297, 'chickapee': 298, 'took': 299, 'darken': 300, 'doctor': 301, 'wilt': 302, 'dropper': 303, 'fist': 304, 'yes': 305, 'sweeping': 306, 'alarmed': 307, 'awful': 308, 'pay': 309, 'sweat': 310, 'non': 311, 'klondike': 312, 'pride': 313, 'home': 314, 'blacken': 315, 'iwo': 316, \"heaven's\": 317, 'hip': 318, 'marry': 319, 'cocked': 320, 'stands': 321, 'tea': 322, 'records': 323, 'maid': 324, 'loose': 325, 'taken': 326, 'black': 327, 'crowns': 328, 'chosen': 329, 'seven': 330, 'rest': 331, 'regret': 332, \"henry's\": 333, 'stuck': 334, 'dwell': 335, 'pounds': 336, 'town': 337, 'dealing': 338, 'gears': 339, 'michigan': 340, 'locked': 341, 'mow': 342, 'kitchen': 343, 'frozen': 344, 'dressed': 345, 'met': 346, 'worn': 347, 'winnemucca': 348, 'shocks': 349, 'jaypan': 350, 'flower': 351, 'scattered': 352, 'thank': 353, 'pigiron': 354, 'better': 355, 'defend': 356, 'god': 357, 'cleared': 358, 'gang': 359, 'personal': 360, 'join': 361, 'bread': 362, 'come': 363, \"potter's\": 364, 'straw': 365, 'gracious': 366, \"searchin'\": 367, 'little': 368, 'lift': 369, 'goodness': 370, 'travel': 371, 'loads': 372, 'flipped': 373, 'wild': 374, 'louisiana': 375, 'motor': 376, 'ledge': 377, 'south': 378, 'along': 379, 'minnesota': 380, \"soul's\": 381, 'county': 382, 'ocean': 383, 'alarm': 384, \"there's\": 385, 'kingdom': 386, 'double': 387, 'forty': 388, 'saw': 389, 'gift': 390, 'jose': 391, 'aloft': 392, 'canyons': 393, 'hallow': 394, 'teardrops': 395, 'shot': 396, 'armageddon': 397, 'brain': 398, 'head': 399, 'chrome': 400, 'tore': 401, 'deep': 402, 'texarkana': 403, \"sprout'\": 404, 'cast': 405, 'nebraska': 406, 'shoulder': 407, 'tail': 408, 'shirt': 409, 'noticed': 410, 'wealthy': 411, 'handled': 412, 'thy': 413, 'dress': 414, 'understand': 415, 'faithful': 416, 'bow': 417, 'cradle': 418, 'fightings': 419, 'cares': 420, 'taps': 421, 'bakersfield': 422, 'mid': 423, 'flag': 424, 'restless': 425, 'holds': 426, 'eye': 427, 'knight': 428, 'searching': 429, 'part': 430, 'pleaded': 431, 'picking': 432, \"mouthin'\": 433, 'lightning': 434, 'monterey': 435, 'chain': 436, 'ask': 437, 'turned': 438, 'relayed': 439, 'soft': 440, 'cab': 441, 'worry': 442, 'ripped': 443, 'bet': 444, 'salvador': 445, 'act': 446, 'ring': 447, 'mistaken': 448, 'shed': 449, 'driftwood': 450, 'factory': 451, 'tougher': 452, 'trouble': 453, \"sayin'\": 454, 'teaching': 455, 'huh': 456, 'hallelujah': 457, 'island': 458, 'grace': 459, 'goes': 460, 'fishing': 461, 'fellas': 462, 'flat': 463, 'accidentally': 464, 'last': 465, 'cant': 466, 'party': 467, 'tough': 468, 'multitudes': 469, 'jump': 470, 'hope': 471, 'learned': 472, 'crops': 473, 'blew': 474, 'due': 475, 'cents': 476, 'fumbled': 477, 'horn': 478, 'learn': 479, 'fully': 480, 'iron': 481, 'treated': 482, 'windy': 483, 'gold': 484, 'baraboo': 485, 'goodbye': 486, 'strong': 487, 'dollar': 488, 'horse': 489, 'drug': 490, 'fare': 491, 'day': 492, 'line': 493, 'catalina': 494, 'oklahoma': 495, 'shook': 496, 'bitch': 497, 'shall': 498, \"smile's\": 499, 'wayfaring': 500, 'wheat': 501, 'bend': 502, 'brains': 503, 'kinfolk': 504, 'shalom': 505, \"world's\": 506, 'johnny': 507, 'melody': 508, 'become': 509, 'murder': 510, 'inches': 511, 'fighter': 512, 'rag': 513, 'appearance': 514, 'pond': 515, 'pill': 516, 'snuck': 517, 'adimore': 518, 'found': 519, 'soon': 520, 'together': 521, 'jacksonville': 522, 'seek': 523, 'homemade': 524, 'riding': 525, 'guilty': 526, 'stairs': 527, 'indian': 528, 'west': 529, 'caught': 530, 'giving': 531, 'arkansas': 532, 'board': 533, 'twenty': 534, 'begging': 535, \"fallin'\": 536, 'handle': 537, \"retsina'\": 538, 'face': 539, 'powder': 540, 'orange': 541, 'test': 542, 'fought': 543, 'cheek': 544, 'funny': 545, 'window': 546, 'livestock': 547, 'look': 548, 'apart': 549, \"seein'\": 550, 'carpenter': 551, 'bay': 552, 'ran': 553, 'change': 554, 'year': 555, 'tampa': 556, 'bought': 557, 'circles': 558, 'something': 559, 'rambler': 560, 'jack': 561, 'table': 562, \"driver's\": 563, 'spit': 564, 'bogs': 565, 'somber': 566, 'rocking': 567, 'till': 568, 'store': 569, 'rights': 570, \"i've\": 571, 'lit': 572, \"'sue\": 573, 'dope': 574, 'times': 575, 'brand': 576, 'man': 577, 'gladness': 578, 'sailor': 579, 'temple': 580, 'mexico': 581, 'scott': 582, 'seen': 583, 'pocotello': 584, 'say': 585, 'saviour': 586, 'helped': 587, 'grave': 588, 'ninety': 589, 'anything': 590, 'please': 591, 'trigger': 592, 'take': 593, 'moans': 594, 'muscle': 595, 'mercy': 596, 'company': 597, 'eighteen': 598, \"lovin'\": 599, 'five': 600, \"sittin'\": 601, 'hungry': 602, 'mama': 603, 'beg': 604, 'lepers': 605, 'wings': 606, 'money': 607, \"talkin'\": 608, 'read': 609, 'tonight': 610, 'model': 611, 'climbed': 612, 'spot': 613, 'moorlands': 614, 'sang': 615, 'put': 616, 'raced': 617, 'skies': 618, \"mournin'\": 619, 'special': 620, 'comb': 621, 'shown': 622, 'slow': 623, 'known': 624, \"feelin'\": 625, 'tunnel': 626, 'trade': 627, 'greater': 628, 'pity': 629, 'release': 630, 'fly': 631, 'play': 632, 'news': 633, 'early': 634, 'chadanocka': 635, 'wooo': 636, 'snow': 637, 'tipperary': 638, 'entwined': 639, \"blowin'\": 640, 'laughs': 641, 'bids': 642, 'hardly': 643, 'share': 644, 'dreary': 645, 'bolt': 646, 'stranger': 647, 'willie': 648, 'pipers': 649, 'whupped': 650, \"buddy's\": 651, 'conflict': 652, 'street': 653, 'looking': 654, 'lake': 655, 'beauties': 656, 'heard': 657, 'yards': 658, 'probably': 659, 'hound': 660, 'chickens': 661, 'dusty': 662, 'rainy': 663, 'forgiveness': 664, 'seed': 665, 'clear': 666, 'boy': 667, \"nothin'\": 668, \"burnin'\": 669, 'fields': 670, 'paradise': 671, 'fuss': 672, 'biggest': 673, 'brag': 674, 'troubles': 675, 'cried': 676, 'brother': 677, 'shereville': 678, 'stroke': 679, 'shoe': 680, 'around': 681, \"hon'ring\": 682, 'staff': 683, 'kick': 684, 'midnight': 685, 'ragged': 686, 'got': 687, 'cared': 688, 'stream': 689, 'cleanse': 690, 'habastock': 691, 'graveyard': 692, 'chest': 693, 'dozen': 694, 'opalacka': 695, 'woe': 696, 'emerald': 697, 'make': 698, 'slumbering': 699, 'somehow': 700, 'chance': 701, 'fairly': 702, 'richer': 703, 'tollgate': 704, 'overtook': 705, \"judge's\": 706, 'yet': 707, 'nobody': 708, 'writing': 709, 'feeling': 710, 'shovel': 711, 'kneel': 712, 'fortune': 713, 'farmed': 714, \"dyin'\": 715, 'constable': 716, 'shape': 717, 'eyebrows': 718, 'pains': 719, 'bars': 720, 'offer': 721, 'bailed': 722, 'ride': 723, 'wet': 724, \"ira's\": 725, 'wrote': 726, 'baubles': 727, 'dodge': 728, 'holes': 729, 'blessed': 730, 'carcass': 731, 'fight': 732, 'district': 733, 'rounds': 734, 'shaking': 735, 'tear': 736, 'focus': 737, 'treasure': 738, 'hid': 739, 'hit': 740, 'thief': 741, 'skinful': 742, 'well': 743, 'true': 744, 'redwood': 745, \"laughin'\": 746, 'thorns': 747, 'door': 748, 'driver': 749, 'charms': 750, \"cavin'\": 751, 'behind': 752, 'ought': 753, 'rock': 754, 'especially': 755, 'vanished': 756, 'reception': 757, 'shotgun': 758, 'told': 759, 'strings': 760, 'grandfather': 761, 'fail': 762, 'filthy': 763, 'still': 764, 'astray': 765, 'champagne': 766, 'toes': 767, 'roses': 768, 'beneath': 769, 'singing': 770, 'foreman': 771, 'hold': 772, \"waitin'\": 773, 'captin': 774, 'big': 775, \"'tho\": 776, 'taller': 777, 'time': 778, 'kansas': 779, \"'till\": 780, 'wanted': 781, 'oskaloussa': 782, 'knocked': 783, 'starship': 784, \"roller's\": 785, 'cap': 786, 'arizonia': 787, 'wits': 788, 'booze': 789, 'feel': 790, 'refused': 791, 'numbering': 792, 'pump': 793, 'guide': 794, 'arm': 795, 'crowd': 796, \"pickin'\": 797, 'hide': 798, 'words': 799, 'sit': 800, \"dublin's\": 801, 'savior': 802, 'different': 803, 'peacemaker': 804, 'blade': 805, 'church': 806, 'quite': 807, 'clock': 808, 'hello': 809, 'sweet': 810, 'charges': 811, 'glorious': 812, 'throw': 813, 'even': 814, 'drilled': 815, 'lots': 816, 'labored': 817, 'would': 818, 'alright': 819, 'sure': 820, 'limp': 821, 'shannon': 822, 'realize': 823, 'kalamazoo': 824, \"ov're\": 825, 'raise': 826, 'wined': 827, 'nuts': 828, 'rain': 829, 'judge': 830, 'fairaday': 831, 'suit': 832, 'hammered': 833, \"hair's\": 834, 'shake': 835, 'stuff': 836, 'pretty': 837, 'shame': 838, 'house': 839, 'fair': 840, 'pulled': 841, \"devil's\": 842, 'shadow': 843, 'right': 844, 'hen': 845, 'baby': 846, 'scatter': 847, 'busted': 848, \"cryin'\": 849, 'low': 850, 'sent': 851, \"ranger's\": 852, 'santa': 853, 'scaffold': 854, 'thirsty': 855, \"mornin'\": 856, 'eldorado': 857, 'single': 858, 'needle': 859, 'went': 860, 'stood': 861, 'pappy': 862, \"who'll\": 863, 'scene': 864, 'always': 865, 'sleeping': 866, \"changin'\": 867, 'homesick': 868, 'sing': 869, 'briny': 870, 'muffled': 871, \"runnin'\": 872, 'familiar': 873, \"leanin'\": 874, 'land': 875, 'grab': 876, 'really': 877, 'nine': 878, 'heart': 879, 'cold': 880, 'blue': 881, 'measured': 882, \"here's\": 883, 'machines': 884, 'need': 885, 'hypnotized': 886, 'evil': 887, 'bare': 888, 'spend': 889, 'omerback': 890, 'dingle': 891, 'fire': 892, 'knoxville': 893, 'costa': 894, 'spin': 895, 'tinker': 896, 'thing': 897, 'noble': 898, 'remain': 899, 'sorry': 900, 'beer': 901, 'ease': 902, \"what's\": 903, 'serenade': 904, 'threw': 905, 'whisper': 906, 'glory': 907, 'cotton': 908, 'ceased': 909, 'traveled': 910, 'gonna': 911, 'dump': 912, \"friend's\": 913, 'drop': 914, 'groan': 915, 'papa': 916, 'thee': 917, 'dried': 918, 'alaska': 919, 'tell': 920, 'dollars': 921, \"god's\": 922, 'green': 923, 'strike': 924, 'sight': 925, 'arrested': 926, 'best': 927, 'trumpets': 928, 'prayers': 929, 'came': 930, \"draggin'\": 931, \"peoples'\": 932, 'slayer': 933, 'gerneral': 934, 'somewhere': 935, 'curve': 936, \"omega's\": 937, 'crocodile': 938, 'screw': 939, 'relieve': 940, 'stud': 941, 'bold': 942, 'schooner': 943, 'winter': 944, 'alone': 945, 'grew': 946, 'anywhere': 947, \"engine's\": 948, 'beauteous': 949, 'others': 950, 'color': 951, 'ships': 952, 'cars': 953, 'automobile': 954, 'sell': 955, 'place': 956, \"sent'st\": 957, 'gleaming': 958, 'tight': 959, 'daddy': 960, 'divine': 961, 'withered': 962, 'late': 963, 'long': 964, 'drag': 965, \"he's\": 966, 'coughed': 967, \"ira'd\": 968, 'frown': 969, 'colors': 970, 'waterloo': 971, 'dog': 972, 'minute': 973, 'drove': 974, 'dared': 975, 'breathe': 976, 'song': 977, 'poor': 978, 'slipping': 979, 'thoughts': 980, 'thousand': 981, 'pack': 982, 'quick': 983, \"an'\": 984, 'foot': 985, 'rang': 986, 'knee': 987, 'heed': 988, 'warden': 989, 'july': 990, 'biter': 991, \"hangin'\": 992, 'spoon': 993, 'sometimes': 994, 'end': 995, 'might': 996, 'dignity': 997, 'swing': 998, 'heavenly': 999, 'good': 1000, 'dreamed': 1001, 'said': 1002, 'bullet': 1003, 'angels': 1004, 'rails': 1005, \"'round\": 1006, 'picture': 1007, 'burned': 1008, 'hills': 1009, 'empty': 1010, 'sees': 1011, 'room': 1012, 'torn': 1013, 'died': 1014, 'doubts': 1015, 'touch': 1016, \"travelin'\": 1017, 'hill': 1018, 'dining': 1019, 'danny': 1020, 'hush': 1021, 'rules': 1022, 'drinks': 1023, 'hotter': 1024, 'pony': 1025, 'gathered': 1026, 'hole': 1027, 'girl': 1028, 'spade': 1029, 'meadow': 1030, 'whether': 1031, 'foam': 1032, 'tin': 1033, 'successful': 1034, 'redeemed': 1035, 'stoned': 1036, 'serves': 1037, 'captain': 1038, 'think': 1039, 'shores': 1040, 'mess': 1041, 'corner': 1042, 'wedding': 1043, 'sink': 1044, \"grandfather's\": 1045, 'greedy': 1046, 'steal': 1047, 'passenger': 1048, 'shit': 1049, 'batter': 1050, 'roll': 1051, \"comin'\": 1052, 'sowed': 1053, 'cause': 1054, 'raised': 1055, 'main': 1056, 'constantly': 1057, 'reckless': 1058, 'nineteen': 1059, 'reason': 1060, 'steamdrill': 1061, 'panama': 1062, 'sitting': 1063, 'beasts': 1064, 'looked': 1065, 'woke': 1066, 'thou': 1067, 'higher': 1068, 'swinging': 1069, 'gal': 1070, 'pictures': 1071, 'oats': 1072, 'hollered': 1073, 'sheriff': 1074, 'hairs': 1075, 'struggle': 1076, 'vile': 1077, 'ave': 1078, 'skull': 1079, 'gabriel': 1080, 'air': 1081, 'charming': 1082, 'blocks': 1083, \"movin'\": 1084, 'victim': 1085, 'certain': 1086, 'announcement': 1087, 'considered': 1088, 'let': 1089, 'heartaches': 1090, 'among': 1091, 'jesus': 1092, \"cow's\": 1093, 'eagles': 1094, 'real': 1095, \"doin'\": 1096, 'freighter': 1097, 'rio': 1098, 'named': 1099, 'men': 1100, 'abused': 1101, 'larne': 1102, 'brake': 1103, 'furled': 1104, 'babies': 1105, 'vietnam': 1106, 'knows': 1107, 'willy': 1108, 'hall': 1109, 'snake': 1110, \"takin'\": 1111, 'amperdllo': 1112, 'vicksburg': 1113, 'deliver': 1114, \"marchin'\": 1115, 'whirlwind': 1116, 'walking': 1117, 'tonks': 1118, 'ate': 1119, \"gettin'\": 1120, 'lean': 1121, 'cost': 1122, 'sickness': 1123, 'needed': 1124, 'forsake': 1125, 'places': 1126, 'living': 1127, 'lucky': 1128, 'finish': 1129, \"sleepin'\": 1130, 'coal': 1131, 'paulie': 1132, 'lead': 1133, 'cuss': 1134, 'sneak': 1135, \"casey's\": 1136, 'breathed': 1137, 'sea': 1138, 'teach': 1139, 'nickel': 1140, 'smile': 1141, 'ohh': 1142, 'knees': 1143, 'brown': 1144, 'charleston': 1145, 'hurt': 1146, \"we'd\": 1147, 'monday': 1148, 'lemme': 1149, 'tremble': 1150, 'north': 1151, \"leavin'\": 1152, 'throttle': 1153, 'buffalo': 1154, 'shalimar': 1155, 'glean': 1156, 'getting': 1157, 'freeze': 1158, 'newly': 1159, 'garden': 1160, 'pale': 1161, 'top': 1162, 'bill': 1163, 'digging': 1164, 'proves': 1165, 'banks': 1166, 'wall': 1167, 'cloudy': 1168, 'warrant': 1169, 'waters': 1170, 'sake': 1171, 'darkness': 1172, \"bout'\": 1173, 'requests': 1174, 'speed': 1175, 'floor': 1176, 'teeth': 1177, 'numbered': 1178, 'paid': 1179, 'none': 1180, \"howlin'\": 1181, 'inch': 1182, 'least': 1183, 'eight': 1184, 'laid': 1185, 'naw': 1186, 'side': 1187, 'straight': 1188, 'must': 1189, \"puttin'\": 1190, 'hives': 1191, 'fingers': 1192, 'park': 1193, 'loneliness': 1194, 'bottle': 1195, 'choked': 1196, 'san': 1197, 'new': 1198, \"dancin'\": 1199, \"smokin'\": 1200, 'fairer': 1201, 'trunk': 1202, 'armor': 1203, 'tinnesay': 1204, 'agreed': 1205, 'killer': 1206, 'key': 1207, 'kind': 1208, 'rhythm': 1209, 'faith': 1210, 'laugh': 1211, 'river': 1212, 'sigh': 1213, 'steel': 1214, 'wearing': 1215, 'tossed': 1216, 'wasted': 1217, 'weak': 1218, 'swiftness': 1219, 'denied': 1220, 'kissed': 1221, 'deadly': 1222, 'nerve': 1223, 'boots': 1224, 'songs': 1225, 'golden': 1226, 'clack': 1227, 'flew': 1228, 'bended': 1229, 'listen': 1230, 'roam': 1231, 'awhile': 1232, 'arms': 1233, \"drivin'\": 1234, 'sting': 1235, 'webb': 1236, 'eiderdown': 1237, 'weighed': 1238, 'ditches': 1239, 'dead': 1240, 'may': 1241, 'beans': 1242, 'mill': 1243, 'austin': 1244, 'fellow': 1245, 'dark': 1246, 'sets': 1247, 'liars': 1248, 'seventy': 1249, 'inside': 1250, 'cannot': 1251, 'thursday': 1252, 'willow': 1253, 'bangor': 1254, 'proudly': 1255, 'houston': 1256, 'colored': 1257, 'prepared': 1258, 'substitute': 1259, 'daughter': 1260, \"blownin'\": 1261, 'caller': 1262, 'cup': 1263, 'chorus': 1264, 'blouse': 1265, 'dad': 1266, 'ever': 1267, 'strung': 1268, 'protect': 1269, 'crucified': 1270, 'could': 1271, 'hakensack': 1272, 'sup': 1273, 'tearing': 1274, 'weary': 1275, 'someday': 1276, 'sandoval': 1277, 'thirty': 1278, 'rosy': 1279, 'used': 1280, 'heaven': 1281, 'hoist': 1282, 'tie': 1283, 'three': 1284, 'sweetest': 1285, 'stains': 1286, 'lonely': 1287, 'glen': 1288, 'compliments': 1289, 'jail': 1290, 'bad': 1291, 'honky': 1292, 'rexburg': 1293, 'cure': 1294, 'replace': 1295, \"lightnin'\": 1296, 'veil': 1297, 'catch': 1298, 'sorrow': 1299, 'whoreys': 1300, 'anymore': 1301, 'desert': 1302, 'breast': 1303, 'health': 1304, 'yeah': 1305, \"summer's\": 1306, \"reachin'\": 1307, 'pane': 1308, 'way': 1309, 'middle': 1310, 'checks': 1311, 'body': 1312, 'keeps': 1313, 'several': 1314, 'missing': 1315, 'pardon': 1316, 'tucked': 1317, 'short': 1318, 'curves': 1319, 'grows': 1320, 'grin': 1321, 'everybody': 1322, 'engines': 1323, 'decides': 1324, 'steam': 1325, 'sam': 1326, 'sword': 1327, 'business': 1328, 'belted': 1329, 'churching': 1330, 'earn': 1331, 'sugar': 1332, 'lunch': 1333, 'tunnels': 1334, 'carry': 1335, 'tocapillo': 1336, 'less': 1337, 'pipes': 1338, 'troubled': 1339, 'toll': 1340, 'harbor': 1341, 'beauregard': 1342, 'eighty': 1343, 'stand': 1344, 'sunny': 1345, \"breathin'\": 1346, 'winslow': 1347, 'dessert': 1348, 'cork': 1349, 'brothers': 1350, 'hanging': 1351, \"they've\": 1352, 'shallow': 1353, 'watching': 1354, 'bills': 1355, 'course': 1356, 'hot': 1357, \"goin'\": 1358, \"untanglin'\": 1359, 'official': 1360, 'enter': 1361, 'separation': 1362, 'legs': 1363, 'rouge': 1364, 'hell': 1365, 'pepper': 1366, 'blues': 1367, 'ones': 1368, 'box': 1369, 'second': 1370, 'vow': 1371, 'gulf': 1372, 'shining': 1373, 'repay': 1374, 'wave': 1375, 'bertha': 1376, 'stripes': 1377, 'boat': 1378, 'find': 1379, \"flashin'\": 1380, 'wrangle': 1381, 'spirits': 1382, 'kit': 1383, 'promise': 1384, 'gave': 1385, 'army': 1386, 'rusted': 1387, 'hang': 1388, 'toil': 1389, 'recorded': 1390, 'argentina': 1391, 'past': 1392, 'rise': 1393, 'sooner': 1394, 'dungeon': 1395, 'windows': 1396, 'search': 1397, 'feed': 1398, 'lip': 1399, 'much': 1400, 'insisting': 1401, 'wife': 1402, \"sister's\": 1403, 'try': 1404, 'returned': 1405, 'idaho': 1406, 'without': 1407, 'name': 1408, 'unjust': 1409, 'road': 1410, 'bed': 1411, \"man's\": 1412, 'repair': 1413, 'hand': 1414, 'half': 1415, 'working': 1416, 'sweethearts': 1417, 'lower': 1418, 'arise': 1419, 'married': 1420, \"she'll\": 1421, 'ticket': 1422, 'playing': 1423, 'dirtiest': 1424, 'rich': 1425, 'nectar': 1426, 'henry': 1427, 'panicked': 1428, 'blessing': 1429, 'silver': 1430, 'cash': 1431, 'lies': 1432, 'expressions': 1433, 'thud': 1434, 'pittsburgh': 1435, 'lures': 1436, 'laughter': 1437, 'ottowa': 1438, 'ways': 1439, 'care': 1440, 'gentle': 1441, 'brighter': 1442, 'healing': 1443, 'parkersburg': 1444, 'flames': 1445, 'unknown': 1446, 'bees': 1447, 'feelings': 1448, 'shelf': 1449, 'memphis': 1450, 'drain': 1451, 'million': 1452, 'fairest': 1453, 'game': 1454, \"they're\": 1455, 'burns': 1456, 'rounders': 1457, 'richfield': 1458, 'taking': 1459, \"how'd\": 1460, 'strife': 1461, 'move': 1462, 'reaching': 1463, 'transmission': 1464, 'fisherman': 1465, 'cross': 1466, 'chains': 1467, 'salvation': 1468, 'binds': 1469, 'lady': 1470, 'ghost': 1471, 'thine': 1472, 'hung': 1473, 'streak': 1474, 'tree': 1475, 'failing': 1476, \"angel's\": 1477, 'miss': 1478, 'draw': 1479, \"god'll\": 1480, 'border': 1481, 'rose': 1482, 'doth': 1483, 'talking': 1484, 'awoke': 1485, 'bye': 1486, \"workin'\": 1487, 'flanders': 1488, 'lac': 1489, 'boston': 1490, 'eat': 1491, 'round': 1492, 'night': 1493, 'baton': 1494, 'small': 1495, 'tired': 1496, \"drinkin'\": 1497, 'ship': 1498, 'righteous': 1499, 'parade': 1500, 'wise': 1501, 'hate': 1502, 'answer': 1503, 'alpha': 1504, 'whole': 1505, 'lightly': 1506, 'honored': 1507, 'tenderly': 1508, \"tuggin'\": 1509, \"sisters'\": 1510, 'ear': 1511, 'wanna': 1512, 'call': 1513, \"'bout\": 1514, 'names': 1515, 'fascinated': 1516, 'shasta': 1517, 'mate': 1518, 'reach': 1519, 'dear': 1520, 'chase': 1521, 'ages': 1522, 'front': 1523, 'settled': 1524, 'job': 1525, 'train': 1526, 'breeze': 1527, 'white': 1528, 'farther': 1529, \"it'll\": 1530, 'save': 1531, 'brave': 1532, 'meddle': 1533, 'holster': 1534, 'shoeshine': 1535, 'trail': 1536, 'galilee': 1537, 'thin': 1538, 'sixty': 1539, 'flowers': 1540, 'pledge': 1541, 'knife': 1542, 'life': 1543, 'darkened': 1544, 'tulsa': 1545, 'watched': 1546, 'whiskey': 1547, 'promised': 1548, 'awake': 1549, 'souix': 1550, 'shoes': 1551, 'bmi': 1552, 'old': 1553, 'rough': 1554, 'smell': 1555, 'cleanest': 1556, 'beside': 1557, 'rode': 1558, 'collide': 1559, 'began': 1560, 'wonder': 1561, 'aim': 1562, 'friend': 1563, 'servant': 1564, 'one': 1565, 'stay': 1566, 'leather': 1567, 'deserts': 1568, 'beautiful': 1569, 'pigs': 1570, 'roads': 1571, 'ladder': 1572, 'blame': 1573, 'dream': 1574, 'ringing': 1575, 'opened': 1576, 'else': 1577, 'despair': 1578, 'plea': 1579, 'sweeter': 1580, 'greed': 1581, 'mud': 1582, 'tells': 1583, \"guy'd\": 1584, 'morn': 1585, 'kentucky': 1586, 'plan': 1587, \"lookin'\": 1588, 'passing': 1589, 'microphone': 1590, \"digin'\": 1591, 'lordy': 1592, \"c'mon\": 1593, 'thirteen': 1594, 'forgiver': 1595, 'eternity': 1596, 'sarasota': 1597, 'bench': 1598, 'bountiful': 1599, 'meet': 1600, 'split': 1601, 'child': 1602, 'phoenix': 1603, \"who's\": 1604, 'two': 1605, 'hock': 1606, 'wine': 1607, 'sick': 1608, 'city': 1609, 'prepare': 1610, 'gravelburg': 1611, 'red': 1612, 'close': 1613, 'donaghadee': 1614, 'hayes': 1615, 'george': 1616, 'midst': 1617, 'worth': 1618, 'conductor': 1619, \"we're\": 1620, 'wearier': 1621, 'volunteered': 1622, \"papa's\": 1623, 'surf': 1624, \"pumpin'\": 1625, 'engine': 1626, 'seem': 1627, 'chancellorsville': 1628, 'flight': 1629, 'suppose': 1630, 'tone': 1631, 'whoever': 1632, 'larimore': 1633, 'first': 1634, 'seams': 1635, 'history': 1636, 'ranger': 1637, 'band': 1638, 'dirty': 1639, 'lips': 1640, \"'neath\": 1641, 'pal': 1642, \"luther's\": 1643, 'trial': 1644, 'mail': 1645, \"eternity's\": 1646, \"can't\": 1647, 'afar': 1648, \"suckin'\": 1649, \"someone's\": 1650, 'railway': 1651, 'runs': 1652, 'quickly': 1653, 'moment': 1654, 'swinger': 1655, 'whistle': 1656, \"did'st\": 1657, 'knew': 1658, 'polished': 1659, 'soul': 1660, 'hey': 1661, 'keep': 1662, 'file': 1663, 'mine': 1664, 'lights': 1665, 'lonesome': 1666, 'pieces': 1667, 'correction': 1668, 'goose': 1669, 'almost': 1670, 'abide': 1671, 'figured': 1672, 'prisoner': 1673, 'fried': 1674, 'nailed': 1675, 'bus': 1676, 'plum': 1677, 'stars': 1678, 'die': 1679, 'followed': 1680, 'kindness': 1681, 'called': 1682, 'robert': 1683, 'calling': 1684, 'marine': 1685, 'kicked': 1686, \"'til\": 1687, 'tried': 1688, 'fast': 1689, 'kid': 1690, 'passed': 1691, 'cabin': 1692, 'shoot': 1693, 'cries': 1694, 'since': 1695, 'things': 1696, 'shalam': 1697, 'mississippi': 1698, 'dust': 1699, 'farmers': 1700, 'anybody': 1701, 'bound': 1702, 'feet': 1703, 'spirit': 1704, 'voices': 1705, 'somebody': 1706, 'kiss': 1707, 'left': 1708, 'nassau': 1709, 'shreveport': 1710, 'blow': 1711, 'number': 1712, 'many': 1713, 'girls': 1714, 'charmer': 1715, 'dishonored': 1716, 'gravel': 1717, 'cigarettes': 1718, 'dwelling': 1719, 'psycho': 1720, 'grand': 1721, 'fiery': 1722, 'wreck': 1723, 'lee': 1724, 'joke': 1725, 'colt': 1726, 'taste': 1727, 'guns': 1728, 'cry': 1729, 'ryder': 1730, \"momma's\": 1731, 'highway': 1732, 'show': 1733, \"rollin'\": 1734, 'builder': 1735, 'snowflakes': 1736, 'cheating': 1737, 'foolish': 1738, 'pricks': 1739, 'cigars': 1740, 'fame': 1741, 'learning': 1742, 'guts': 1743, \"'come\": 1744, 'folks': 1745, 'beaten': 1746, 'leaves': 1747, 'pleasures': 1748, 'record': 1749, 'ball': 1750, 'forgot': 1751, 'wednesday': 1752, 'sister': 1753, 'swear': 1754, 'drunken': 1755, 'virginia': 1756, 'fond': 1757, 'kinds': 1758, 'journey': 1759, 'shoulders': 1760, 'laughing': 1761, 'walked': 1762, \"pete's\": 1763, 'woman': 1764, 'partners': 1765, 'flow': 1766, 'doors': 1767, 'law': 1768, \"she'd\": 1769, 'hmm': 1770, 'wheel': 1771, \"growin'\": 1772, 'alive': 1773, 'standing': 1774, 'waited': 1775, 'gray': 1776, 'spied': 1777, 'seat': 1778, \"cavortin'\": 1779, 'proved': 1780, 'letter': 1781, 'nashville': 1782, 'disappear': 1783, 'breatherd': 1784, 'drops': 1785, 'meditate': 1786, 'trees': 1787, 'tongue': 1788, 'moon': 1789, \"sweetheart's\": 1790, 'weeds': 1791, 'square': 1792, 'buried': 1793, 'throughout': 1794, 'drawing': 1795, 'women': 1796, 'mare': 1797, 'crashed': 1798, 'government': 1799, 'speaks': 1800, \"headlight'\": 1801, 'breath': 1802, \"that's\": 1803, 'discloses': 1804, 'agua': 1805, 'hundred': 1806, 'uncle': 1807, 'young': 1808, \"makin'\": 1809, 'baltimore': 1810, 'tomb': 1811, \"i'll\": 1812, 'traveling': 1813, \"he'd\": 1814, 'hire': 1815, 'warm': 1816, 'honey': 1817, 'cook': 1818, 'chine': 1819, 'plans': 1820, 'open': 1821, 'meanest': 1822, 'whichta': 1823, 'repeat': 1824, 'makes': 1825, 'everything': 1826, 'nothing': 1827, 'help': 1828, 'pen': 1829, \"let's\": 1830, 'sparkling': 1831, 'father': 1832, 'fill': 1833, 'miner': 1834, 'grinding': 1835, 'tapping': 1836, 'crossed': 1837, 'plain': 1838, 'tread': 1839, 'complete': 1840, 'noise': 1841, 'wheels': 1842, 'scalded': 1843, 'fit': 1844, 'pound': 1845, 'hammer': 1846, 'lost': 1847, 'stoop': 1848, 'gavel': 1849, 'broke': 1850, 'track': 1851, 'vicious': 1852, 'worst': 1853, 'hopeless': 1854, 'miles': 1855, 'undone': 1856, 'days': 1857, 'mind': 1858, 'joint': 1859, 'thought': 1860, 'thorn': 1861, 'frying': 1862, 'clay': 1863, \"poppin'\": 1864, 'morning': 1865, 'style': 1866, 'keen': 1867, 'remember': 1868, 'bloom': 1869, 'voice': 1870, 'crown': 1871, 'covered': 1872, 'fold': 1873, 'drive': 1874, 'match': 1875, 'son': 1876, 'tracks': 1877, 'written': 1878, 'drown': 1879, 'lay': 1880, 'bolts': 1881, 'glass': 1882, 'large': 1883, \"coin'\": 1884, 'tortures': 1885, 'drill': 1886, 'jericho': 1887, 'amarillo': 1888, 'hair': 1889, 'gotta': 1890, 'wood': 1891, \"mother'd\": 1892, 'believe': 1893, 'memories': 1894, 'lunchbox': 1895, 'played': 1896, 'proud': 1897, 'reached': 1898, 'slowed': 1899, 'moan': 1900, 'divide': 1901, 'fin': 1902, 'starting': 1903, 'gouging': 1904, 'partake': 1905, 'eyes': 1906, 'stop': 1907, \"walkin'\": 1908, 'spike': 1909, 'shattered': 1910, 'fiend': 1911, 'admit': 1912, 'lot': 1913, 'hack': 1914, 'started': 1915, 'throat': 1916, 'bail': 1917, 'hearted': 1918, 'dying': 1919, 'trip': 1920, 'sound': 1921, 'driving': 1922, 'pray': 1923, 'universe': 1924, 'years': 1925, 'full': 1926, 'raining': 1927, 'clickity': 1928, \"'em\": 1929, 'lived': 1930, 'tide': 1931, 'laying': 1932, 'applaud': 1933, 'deserve': 1934, 'choke': 1935, 'smoked': 1936, 'cavalry': 1937, 'flood': 1938, 'lily': 1939, 'blot': 1940, 'sue': 1941, 'penny': 1942, 'waved': 1943, 'offered': 1944, 'across': 1945, 'free': 1946, 'dew': 1947, 'gatlinburg': 1948, 'mother': 1949, 'fine': 1950, 'honest': 1951, 'celestial': 1952, 'enough': 1953, 'southbound': 1954, 'putting': 1955, 'rivers': 1956, 'lynn': 1957, 'scandalized': 1958, 'drink': 1959, 'weds': 1960, 'fifty': 1961, 'thatching': 1962, 'james': 1963, 'ends': 1964, \"a'lazing\": 1965, 'watch': 1966, 'six': 1967, 'receive': 1968, \"'cause\": 1969, 'school': 1970, 'jumpy': 1971, 'shout': 1972, 'loved': 1973, 'great': 1974, 'reminded': 1975, 'country': 1976, 'chariot': 1977, 'love': 1978, 'envy': 1979, 'brew': 1980, 'commence': 1981, 'hard': 1982, 'worked': 1983, 'turn': 1984, 'cups': 1985, 'drinking': 1986, 'heavy': 1987, 'next': 1988, 'visits': 1989, 'jimmy': 1990, 'stole': 1991, 'scar': 1992, 'washington': 1993, 'charger': 1994, 'shut': 1995, 'lifeblood': 1996, 'receiver': 1997, 'detroit': 1998, 'saved': 1999, 'chicago': 2000, 'kicking': 2001, 'buckle': 2002, 'wishing': 2003, 'stone': 2004, 'yonder': 2005, 'terror': 2006, 'chicken': 2007, 'carrying': 2008, 'another': 2009, 'view': 2010, 'southern': 2011, 'held': 2012, 'leave': 2013, \"valley's\": 2014, 'anyway': 2015, 'storm': 2016, 'tears': 2017, 'shocked': 2018, 'born': 2019, 'adapter': 2020, 'star': 2021, 'easy': 2022, 'kingston': 2023, 'fuel': 2024, 'louis': 2025, 'simply': 2026, 'coming': 2027, \"swinger's\": 2028, 'picked': 2029, 'combed': 2030, \"livin'\": 2031, 'start': 2032, \"eatin'\": 2033, 'ten': 2034, 'asked': 2035, 'clutched': 2036, 'stock': 2037, 'forgive': 2038, 'holding': 2039, 'sunday': 2040, 'valley': 2041, 'attested': 2042, 'comfort': 2043, 'wail': 2044, 'delight': 2045, 'cows': 2046, 'skibbereen': 2047, 'seep': 2048, 'believer': 2049, 'dangerous': 2050, 'block': 2051, 'sprout': 2052, 'walk': 2053, 'mules': 2054, 'folsom': 2055, 'liar': 2056, 'chime': 2057, 'falling': 2058, 'light': 2059, 'jewelery': 2060, 'departure': 2061, 'shine': 2062, 'snapping': 2063, \"life's\": 2064, 'within': 2065, 'columbia': 2066, 'back': 2067, 'later': 2068, 'damp': 2069, 'fading': 2070, 'ditch': 2071, 'eleven': 2072, 'virgins': 2073, 'load': 2074, 'making': 2075, 'bring': 2076, 'jima': 2077, 'unto': 2078, \"we'll\": 2079, 'coach': 2080, 'shuffle': 2081, 'seems': 2082, 'use': 2083, 'negatory': 2084, 'trumpet': 2085, 'disappearing': 2086, 'happy': 2087, 'freed': 2088, 'peace': 2089, 'outlaw': 2090, 'mouth': 2091, 'lives': 2092, 'world': 2093, 'causes': 2094, 'fact': 2095, 'courthouse': 2096, 'orders': 2097, \"o'er\": 2098, 'ellisburg': 2099, 'lure': 2100, 'momma': 2101, 'people': 2102, 'minutes': 2103, 'switch': 2104, 'hero': 2105, 'plunged': 2106, 'melodious': 2107, 'disappoint': 2108, 'hay': 2109, 'leaned': 2110, 'babydoll': 2111, 'notches': 2112, \"head's\": 2113, \"everything's\": 2114, 'highwayman': 2115, 'hear': 2116, 'retired': 2117, 'jellico': 2118, 'concrete': 2119, 'bone': 2120, 'bust': 2121, 'danger': 2122, \"givin'\": 2123, 'saginaw': 2124, 'drawl': 2125, \"swimmin'\": 2126, 'gun': 2127, 'mighty': 2128, 'fella': 2129, 'point': 2130, 'slowly': 2131, 'talks': 2132, 'wish': 2133, 'live': 2134, 'rainbow': 2135, 'wind': 2136, 'summer': 2137, 'rolled': 2138, 'run': 2139, 'death': 2140, 'habit': 2141, 'tomorrow': 2142, 'walks': 2143, \"day's\": 2144, 'vigils': 2145, 'mountains': 2146, 'slip': 2147, 'fool': 2148, 'verdict': 2149, 'title': 2150, 'wonderful': 2151, 'steep': 2152, 'cover': 2153, 'orleans': 2154, 'weeping': 2155, \"i'd\": 2156, 'everyone': 2157, 'see': 2158, 'onlyness': 2159, 'winds': 2160, 'confess': 2161, 'sail': 2162, 'hands': 2163, \"everybody's\": 2164, 'reno': 2165, 'away': 2166, 'hats': 2167, 'dreams': 2168, 'forever': 2169, 'indians': 2170, 'taught': 2171, 'headaches': 2172, 'crater': 2173, 'fret': 2174, \"risin'\": 2175, 'nosed': 2176, 'running': 2177, 'texas': 2178, 'blows': 2179, 'near': 2180, 'reading': 2181, 'cadillacs': 2182, 'spoke': 2183, 'sip': 2184, 'section': 2185, 'swings': 2186, 'fan': 2187, 'borderline': 2188, 'toting': 2189, 'forget': 2190, 'giggle': 2191, 'yesterday': 2192, 'heels': 2193, 'bastards': 2194, 'flesh': 2195, 'often': 2196, 'gone': 2197, 'beat': 2198, \"boilin'\": 2199, 'touched': 2200, 'mister': 2201, 'colorado': 2202, 'fargo': 2203, 'done': 2204, \"they'll\": 2205, 'trains': 2206, 'dirt': 2207, \"daughter's\": 2208, 'joy': 2209, 'cabaret': 2210, 'album': 2211, 'wipe': 2212, 'maybe': 2213, 'hundredweight': 2214, 'glad': 2215, 'boulder': 2216, 'wicks': 2217, 'earth': 2218, 'waiting': 2219, 'meager': 2220, 'stopped': 2221, \"high's\": 2222, 'begun': 2223, 'twelve': 2224, 'ugh': 2225, 'worried': 2226, 'miller': 2227, 'listened': 2228, 'far': 2229, 'silently': 2230, \"people's\": 2231, 'cafe': 2232, 'win': 2233, 'dance': 2234, 'already': 2235, 'rail': 2236, 'pick': 2237, 'mourners': 2238, 'sign': 2239, 'louisville': 2240, 'fooled': 2241, 'spaniards': 2242, 'mammy': 2243, 'float': 2244, 'daze': 2245, 'dam': 2246, 'crime': 2247, 'korea': 2248, 'get': 2249, 'hat': 2250, 'high': 2251, 'click': 2252, 'wretched': 2253, 'desire': 2254, 'definitely': 2255, 'story': 2256, 'shiloh': 2257, 'whatever': 2258, 'court': 2259, 'antone': 2260, 'tribute': 2261, 'polish': 2262, 'flagpole': 2263, \"i'm\": 2264, 'dayton': 2265, 'broken': 2266, 'closet': 2267, 'hoping': 2268, 'boss': 2269, 'john': 2270, 'surprise': 2271, 'talk': 2272, 'smiled': 2273, 'check': 2274, 'fatal': 2275, 'clothes': 2276, 'loves': 2277, \"singin'\": 2278, 'type': 2279}\n",
      "Training Data Generated for 0 Tokens\n",
      "Training Data Generated for 1000 Tokens\n",
      "Training Data Generated for 2000 Tokens\n",
      "Training Data Generated for 3000 Tokens\n",
      "Training Data Generated for 4000 Tokens\n",
      "Training Data Generated for 5000 Tokens\n",
      "Training Data Generated for 6000 Tokens\n",
      "Training Data Generated for 7000 Tokens\n",
      "Training Data Generated for 8000 Tokens\n",
      "Training Data Generated for 9000 Tokens\n",
      "Training Data Generated\n"
     ]
    },
    {
     "data": {
      "text/plain": [
       "(54036, 2280)"
      ]
     },
     "execution_count": 22,
     "metadata": {},
     "output_type": "execute_result"
    }
   ],
   "source": [
    "lyrics_file = open('johnny-cash.txt', 'r')\n",
    "text2 = lyrics_file.read()\n",
    "lyrics_file.close()\n",
    "\n",
    "tokens2 = preprocess(tokenize(text2))\n",
    "\n",
    "word_to_id2, id_to_word2 = mapping(tokens2)\n",
    "print(word_to_id2)\n",
    "\n",
    "X2, y2 = generate_training_data(tokens2, word_to_id2, 3)\n",
    "\n",
    "X2.shape"
   ]
  },
  {
   "cell_type": "code",
   "execution_count": 23,
   "metadata": {
    "pycharm": {
     "name": "#%%\n"
    }
   },
   "outputs": [
    {
     "name": "stdout",
     "output_type": "stream",
     "text": [
      "2280\n",
      "Epoch 1/100\n",
      "423/423 [==============================] - 6s 12ms/step - loss: 7.1211 - accuracy: 0.0093\n",
      "Epoch 2/100\n",
      "423/423 [==============================] - 5s 11ms/step - loss: 6.8679 - accuracy: 0.0158\n",
      "Epoch 3/100\n",
      "423/423 [==============================] - 5s 11ms/step - loss: 6.6942 - accuracy: 0.0336\n",
      "Epoch 4/100\n",
      "423/423 [==============================] - 5s 12ms/step - loss: 6.4194 - accuracy: 0.0532\n",
      "Epoch 5/100\n",
      "423/423 [==============================] - 5s 12ms/step - loss: 6.1236 - accuracy: 0.0656\n",
      "Epoch 6/100\n",
      "423/423 [==============================] - 5s 11ms/step - loss: 5.8335 - accuracy: 0.0749\n",
      "Epoch 7/100\n",
      "423/423 [==============================] - 5s 11ms/step - loss: 5.5563 - accuracy: 0.0820\n",
      "Epoch 8/100\n",
      "423/423 [==============================] - 5s 12ms/step - loss: 5.3012 - accuracy: 0.0843\n",
      "Epoch 9/100\n",
      "423/423 [==============================] - 5s 11ms/step - loss: 5.0746 - accuracy: 0.0862\n",
      "Epoch 10/100\n",
      "423/423 [==============================] - 5s 12ms/step - loss: 4.8740 - accuracy: 0.0865\n",
      "Epoch 11/100\n",
      "423/423 [==============================] - 6s 14ms/step - loss: 4.6981 - accuracy: 0.0868\n",
      "Epoch 12/100\n",
      "423/423 [==============================] - 5s 12ms/step - loss: 4.5445 - accuracy: 0.0860\n",
      "Epoch 13/100\n",
      "423/423 [==============================] - 5s 13ms/step - loss: 4.4131 - accuracy: 0.0847\n",
      "Epoch 14/100\n",
      "423/423 [==============================] - 5s 13ms/step - loss: 4.3048 - accuracy: 0.0840\n",
      "Epoch 15/100\n",
      "423/423 [==============================] - 5s 12ms/step - loss: 4.2140 - accuracy: 0.0824\n",
      "Epoch 16/100\n",
      "423/423 [==============================] - 5s 13ms/step - loss: 4.1381 - accuracy: 0.0833\n",
      "Epoch 17/100\n",
      "423/423 [==============================] - 5s 13ms/step - loss: 4.0748 - accuracy: 0.0834\n",
      "Epoch 18/100\n",
      "423/423 [==============================] - 5s 13ms/step - loss: 4.0198 - accuracy: 0.0823\n",
      "Epoch 19/100\n",
      "423/423 [==============================] - 5s 12ms/step - loss: 3.9716 - accuracy: 0.0832\n",
      "Epoch 20/100\n",
      "423/423 [==============================] - 5s 13ms/step - loss: 3.9299 - accuracy: 0.0830\n",
      "Epoch 21/100\n",
      "423/423 [==============================] - 5s 12ms/step - loss: 3.8924 - accuracy: 0.0827\n",
      "Epoch 22/100\n",
      "423/423 [==============================] - 5s 13ms/step - loss: 3.8593 - accuracy: 0.0823\n",
      "Epoch 23/100\n",
      "423/423 [==============================] - 5s 13ms/step - loss: 3.8283 - accuracy: 0.0845\n",
      "Epoch 24/100\n",
      "423/423 [==============================] - 5s 12ms/step - loss: 3.8019 - accuracy: 0.0843\n",
      "Epoch 25/100\n",
      "423/423 [==============================] - 5s 12ms/step - loss: 3.7768 - accuracy: 0.0853\n",
      "Epoch 26/100\n",
      "423/423 [==============================] - 5s 13ms/step - loss: 3.7545 - accuracy: 0.0847\n",
      "Epoch 27/100\n",
      "423/423 [==============================] - 5s 12ms/step - loss: 3.7348 - accuracy: 0.0860\n",
      "Epoch 28/100\n",
      "423/423 [==============================] - 5s 13ms/step - loss: 3.7168 - accuracy: 0.0853\n",
      "Epoch 29/100\n",
      "423/423 [==============================] - 6s 13ms/step - loss: 3.6994 - accuracy: 0.0865\n",
      "Epoch 30/100\n",
      "423/423 [==============================] - 5s 12ms/step - loss: 3.6842 - accuracy: 0.0845\n",
      "Epoch 31/100\n",
      "423/423 [==============================] - 5s 13ms/step - loss: 3.6714 - accuracy: 0.0855\n",
      "Epoch 32/100\n",
      "423/423 [==============================] - 5s 13ms/step - loss: 3.6575 - accuracy: 0.0857\n",
      "Epoch 33/100\n",
      "423/423 [==============================] - 5s 12ms/step - loss: 3.6459 - accuracy: 0.0862\n",
      "Epoch 34/100\n",
      "423/423 [==============================] - 5s 12ms/step - loss: 3.6343 - accuracy: 0.0858\n",
      "Epoch 35/100\n",
      "423/423 [==============================] - 5s 13ms/step - loss: 3.6251 - accuracy: 0.0846\n",
      "Epoch 36/100\n",
      "423/423 [==============================] - 5s 12ms/step - loss: 3.6147 - accuracy: 0.0849\n",
      "Epoch 37/100\n",
      "423/423 [==============================] - 5s 13ms/step - loss: 3.6072 - accuracy: 0.0834\n",
      "Epoch 38/100\n",
      "423/423 [==============================] - 6s 13ms/step - loss: 3.6000 - accuracy: 0.0842\n",
      "Epoch 39/100\n",
      "423/423 [==============================] - 5s 12ms/step - loss: 3.5916 - accuracy: 0.0846\n",
      "Epoch 40/100\n",
      "423/423 [==============================] - 5s 13ms/step - loss: 3.5844 - accuracy: 0.0835\n",
      "Epoch 41/100\n",
      "423/423 [==============================] - 5s 13ms/step - loss: 3.5775 - accuracy: 0.0842\n",
      "Epoch 42/100\n",
      "423/423 [==============================] - 5s 12ms/step - loss: 3.5723 - accuracy: 0.0848\n",
      "Epoch 43/100\n",
      "423/423 [==============================] - 5s 13ms/step - loss: 3.5672 - accuracy: 0.0837\n",
      "Epoch 44/100\n",
      "423/423 [==============================] - 5s 13ms/step - loss: 3.5608 - accuracy: 0.0833\n",
      "Epoch 45/100\n",
      "423/423 [==============================] - 5s 12ms/step - loss: 3.5552 - accuracy: 0.0840\n",
      "Epoch 46/100\n",
      "423/423 [==============================] - 5s 13ms/step - loss: 3.5519 - accuracy: 0.0836\n",
      "Epoch 47/100\n",
      "423/423 [==============================] - 6s 14ms/step - loss: 3.5476 - accuracy: 0.0845\n",
      "Epoch 48/100\n",
      "423/423 [==============================] - 5s 12ms/step - loss: 3.5439 - accuracy: 0.0828\n",
      "Epoch 49/100\n",
      "423/423 [==============================] - 5s 13ms/step - loss: 3.5399 - accuracy: 0.0836\n",
      "Epoch 50/100\n",
      "423/423 [==============================] - 6s 14ms/step - loss: 3.5356 - accuracy: 0.0832\n",
      "Epoch 51/100\n",
      "423/423 [==============================] - 5s 13ms/step - loss: 3.5328 - accuracy: 0.0838\n",
      "Epoch 52/100\n",
      "423/423 [==============================] - 5s 13ms/step - loss: 3.5283 - accuracy: 0.0825\n",
      "Epoch 53/100\n",
      "423/423 [==============================] - 5s 13ms/step - loss: 3.5248 - accuracy: 0.0841\n",
      "Epoch 54/100\n",
      "423/423 [==============================] - 5s 12ms/step - loss: 3.5220 - accuracy: 0.0832\n",
      "Epoch 55/100\n",
      "423/423 [==============================] - 5s 12ms/step - loss: 3.5187 - accuracy: 0.0829\n",
      "Epoch 56/100\n",
      "423/423 [==============================] - 5s 13ms/step - loss: 3.5168 - accuracy: 0.0825\n",
      "Epoch 57/100\n",
      "423/423 [==============================] - 5s 12ms/step - loss: 3.5143 - accuracy: 0.0829\n",
      "Epoch 58/100\n",
      "423/423 [==============================] - 5s 12ms/step - loss: 3.5116 - accuracy: 0.0855\n",
      "Epoch 59/100\n",
      "423/423 [==============================] - 5s 13ms/step - loss: 3.5097 - accuracy: 0.0824\n",
      "Epoch 60/100\n",
      "423/423 [==============================] - 5s 12ms/step - loss: 3.5079 - accuracy: 0.0828\n",
      "Epoch 61/100\n",
      "423/423 [==============================] - 5s 13ms/step - loss: 3.5052 - accuracy: 0.0824\n",
      "Epoch 62/100\n",
      "423/423 [==============================] - 5s 13ms/step - loss: 3.5024 - accuracy: 0.0826\n",
      "Epoch 63/100\n",
      "423/423 [==============================] - 5s 12ms/step - loss: 3.4999 - accuracy: 0.0827\n",
      "Epoch 64/100\n",
      "423/423 [==============================] - 5s 13ms/step - loss: 3.5002 - accuracy: 0.0829\n",
      "Epoch 65/100\n",
      "423/423 [==============================] - 6s 14ms/step - loss: 3.4968 - accuracy: 0.0844\n",
      "Epoch 66/100\n",
      "423/423 [==============================] - 6s 14ms/step - loss: 3.4945 - accuracy: 0.0836\n",
      "Epoch 67/100\n",
      "423/423 [==============================] - 5s 13ms/step - loss: 3.4935 - accuracy: 0.0830\n",
      "Epoch 68/100\n",
      "423/423 [==============================] - 5s 13ms/step - loss: 3.4919 - accuracy: 0.0814\n",
      "Epoch 69/100\n",
      "423/423 [==============================] - 5s 13ms/step - loss: 3.4905 - accuracy: 0.0837\n",
      "Epoch 70/100\n",
      "423/423 [==============================] - 6s 13ms/step - loss: 3.4891 - accuracy: 0.0831\n",
      "Epoch 71/100\n",
      "423/423 [==============================] - 5s 13ms/step - loss: 3.4878 - accuracy: 0.0817\n",
      "Epoch 72/100\n",
      "423/423 [==============================] - 5s 12ms/step - loss: 3.4868 - accuracy: 0.0844\n",
      "Epoch 73/100\n",
      "423/423 [==============================] - 6s 13ms/step - loss: 3.4851 - accuracy: 0.0823\n",
      "Epoch 74/100\n",
      "423/423 [==============================] - 5s 13ms/step - loss: 3.4831 - accuracy: 0.0818\n",
      "Epoch 75/100\n",
      "423/423 [==============================] - 5s 12ms/step - loss: 3.4834 - accuracy: 0.0801\n",
      "Epoch 76/100\n",
      "423/423 [==============================] - 5s 13ms/step - loss: 3.4808 - accuracy: 0.0822\n",
      "Epoch 77/100\n",
      "423/423 [==============================] - 5s 13ms/step - loss: 3.4805 - accuracy: 0.0832\n",
      "Epoch 78/100\n",
      "423/423 [==============================] - 5s 12ms/step - loss: 3.4798 - accuracy: 0.0821\n",
      "Epoch 79/100\n",
      "423/423 [==============================] - 5s 13ms/step - loss: 3.4778 - accuracy: 0.0828\n",
      "Epoch 80/100\n",
      "423/423 [==============================] - 5s 12ms/step - loss: 3.4767 - accuracy: 0.0829\n",
      "Epoch 81/100\n",
      "423/423 [==============================] - 5s 12ms/step - loss: 3.4758 - accuracy: 0.0811\n",
      "Epoch 82/100\n",
      "423/423 [==============================] - 6s 14ms/step - loss: 3.4750 - accuracy: 0.0824\n",
      "Epoch 83/100\n",
      "423/423 [==============================] - 6s 13ms/step - loss: 3.4743 - accuracy: 0.0819\n",
      "Epoch 84/100\n",
      "423/423 [==============================] - 5s 12ms/step - loss: 3.4736 - accuracy: 0.0817\n",
      "Epoch 85/100\n",
      "423/423 [==============================] - 6s 13ms/step - loss: 3.4721 - accuracy: 0.0816\n",
      "Epoch 86/100\n",
      "423/423 [==============================] - 6s 13ms/step - loss: 3.4713 - accuracy: 0.0816\n",
      "Epoch 87/100\n",
      "423/423 [==============================] - 5s 13ms/step - loss: 3.4704 - accuracy: 0.0828\n",
      "Epoch 88/100\n",
      "423/423 [==============================] - 6s 13ms/step - loss: 3.4692 - accuracy: 0.0824\n",
      "Epoch 89/100\n",
      "423/423 [==============================] - 5s 13ms/step - loss: 3.4692 - accuracy: 0.0824\n",
      "Epoch 90/100\n",
      "423/423 [==============================] - 5s 12ms/step - loss: 3.4691 - accuracy: 0.0812\n",
      "Epoch 91/100\n",
      "423/423 [==============================] - 6s 13ms/step - loss: 3.4673 - accuracy: 0.0830\n",
      "Epoch 92/100\n",
      "423/423 [==============================] - 5s 12ms/step - loss: 3.4666 - accuracy: 0.0820\n",
      "Epoch 93/100\n",
      "423/423 [==============================] - 5s 13ms/step - loss: 3.4661 - accuracy: 0.0812\n",
      "Epoch 94/100\n",
      "423/423 [==============================] - 6s 13ms/step - loss: 3.4658 - accuracy: 0.0836\n",
      "Epoch 95/100\n",
      "423/423 [==============================] - 5s 13ms/step - loss: 3.4653 - accuracy: 0.0814\n",
      "Epoch 96/100\n",
      "423/423 [==============================] - 6s 13ms/step - loss: 3.4645 - accuracy: 0.0814\n",
      "Epoch 97/100\n",
      "423/423 [==============================] - 6s 13ms/step - loss: 3.4630 - accuracy: 0.0818\n",
      "Epoch 98/100\n",
      "423/423 [==============================] - 5s 13ms/step - loss: 3.4630 - accuracy: 0.0817\n",
      "Epoch 99/100\n",
      "423/423 [==============================] - 5s 13ms/step - loss: 3.4626 - accuracy: 0.0806\n",
      "Epoch 100/100\n",
      "423/423 [==============================] - 6s 13ms/step - loss: 3.4606 - accuracy: 0.0823\n",
      "Model: \"sequential_3\"\n",
      "_________________________________________________________________\n",
      " Layer (type)                Output Shape              Param #   \n",
      "=================================================================\n",
      " dense_6 (Dense)             (None, 100)               228100    \n",
      "                                                                 \n",
      " dense_7 (Dense)             (None, 2280)              230280    \n",
      "                                                                 \n",
      "=================================================================\n",
      "Total params: 458,380\n",
      "Trainable params: 458,380\n",
      "Non-trainable params: 0\n",
      "_________________________________________________________________\n"
     ]
    }
   ],
   "source": [
    "num_neurons2 = X2.shape[1]\n",
    "print(num_neurons2)\n",
    "model3 = keras.Sequential()\n",
    "model3.add(keras.layers.Dense(100, input_dim=num_neurons2, activation='relu'))\n",
    "model3.add(keras.layers.Dense(num_neurons2, activation='softmax'))\n",
    "\n",
    "model3.compile(optimizer='adam', loss=keras.losses.categorical_crossentropy, metrics=['accuracy'])\n",
    "history2 = model3.fit(X2, y2, epochs=100, batch_size=128)\n",
    "model3.summary()"
   ]
  },
  {
   "cell_type": "code",
   "execution_count": 24,
   "metadata": {
    "pycharm": {
     "name": "#%%\n"
    }
   },
   "outputs": [
    {
     "data": {
      "text/plain": [
       "Text(0.5, 1.0, 'Model Training Performance')"
      ]
     },
     "execution_count": 24,
     "metadata": {},
     "output_type": "execute_result"
    },
    {
     "data": {
      "image/png": "[encoded data removed]",
      "text/plain": [
       "<Figure size 432x288 with 1 Axes>"
      ]
     },
     "metadata": {
      "needs_background": "light"
     },
     "output_type": "display_data"
    }
   ],
   "source": [
    "plt.plot(history2.history['loss'])\n",
    "plt.title('Model Training Performance')"
   ]
  },
  {
   "cell_type": "code",
   "execution_count": 25,
   "metadata": {
    "pycharm": {
     "name": "#%%\n"
    }
   },
   "outputs": [
    {
     "name": "stdout",
     "output_type": "stream",
     "text": [
      "Model: \"model_3\"\n",
      "_________________________________________________________________\n",
      " Layer (type)                Output Shape              Param #   \n",
      "=================================================================\n",
      " dense_6_input (InputLayer)  [(None, 2280)]            0         \n",
      "                                                                 \n",
      " dense_6 (Dense)             (None, 100)               228100    \n",
      "                                                                 \n",
      "=================================================================\n",
      "Total params: 228,100\n",
      "Trainable params: 228,100\n",
      "Non-trainable params: 0\n",
      "_________________________________________________________________\n"
     ]
    }
   ],
   "source": [
    "model4 = keras.Model(inputs=model3.inputs, outputs=model3.layers[0].output)\n",
    "model4.summary()"
   ]
  },
  {
   "cell_type": "code",
   "execution_count": 26,
   "metadata": {
    "pycharm": {
     "name": "#%%\n"
    }
   },
   "outputs": [
    {
     "name": "stdout",
     "output_type": "stream",
     "text": [
      "72/72 [==============================] - 0s 3ms/step\n",
      "(2280, 100)\n"
     ]
    }
   ],
   "source": [
    "word_vectors2 = []\n",
    "\n",
    "for i in range(num_neurons2):\n",
    "    word_vectors2.append(one_hot_encode(i, num_neurons2))\n",
    "\n",
    "word_vectors2 = np.array(word_vectors2)\n",
    "\n",
    "enc2 = model4.predict(word_vectors2)\n",
    "print(enc2.shape)"
   ]
  },
  {
   "cell_type": "code",
   "execution_count": 39,
   "metadata": {
    "pycharm": {
     "name": "#%%\n"
    }
   },
   "outputs": [
    {
     "name": "stdout",
     "output_type": "stream",
     "text": [
      "{'images': 5.2090955, 'guru': 5.287603, 'evolution': 5.2972016, 'sharing': 5.3475313, 'controlled': 5.394031, 'change': 5.4009647, 'deva': 5.4424157, 'join': 5.464207, 'institution': 5.490421, 'blind': 5.5046186}\n"
     ]
    },
    {
     "data": {
      "image/png": "[encoded data removed]",
      "text/plain": [
       "<Figure size 1440x360 with 1 Axes>"
      ]
     },
     "metadata": {
      "needs_background": "light"
     },
     "output_type": "display_data"
    }
   ],
   "source": [
    "p = list()\n",
    "target = np.array(enc[word_to_id.get('world')])\n",
    "\n",
    "for i in range(num_neurons):\n",
    "    p.append(np.linalg.norm(target - np.array(enc[i])))\n",
    "\n",
    "p = np.array(p)\n",
    "a = list(np.argsort(p))\n",
    "\n",
    "lab = list()\n",
    "pp = list()\n",
    "\n",
    "dic = {}\n",
    "\n",
    "fig, ax = plt.subplots()\n",
    "fig.set_size_inches(20,5)\n",
    "\n",
    "for k in range(1,11):\n",
    "    lab.append(id_to_word.get(a[k]))\n",
    "    pp.append([p[a[k]]])\n",
    "    dic[id_to_word.get(a[k])] = p[a[k]]\n",
    "\n",
    "plt.scatter(pp, np.zeros((10)))\n",
    "plt.xlabel('pairwise distance')\n",
    "\n",
    "print(dic)\n",
    "\n",
    "pp = np.array(pp)\n",
    "\n",
    "for k in range(10):\n",
    "    plt.annotate(lab[k], (pp[k], 0.005*math.pow(-1, k) - 0.002))"
   ]
  },
  {
   "cell_type": "code",
   "execution_count": 40,
   "metadata": {
    "pycharm": {
     "name": "#%%\n"
    }
   },
   "outputs": [
    {
     "name": "stdout",
     "output_type": "stream",
     "text": [
      "{'insisting': 5.381413, 'traveling': 5.4719815, 'field': 5.483018, 'rough': 5.6616726, 'struggle': 5.7515416, 'lures': 5.7910337, 'ceased': 5.834152, 'sickness': 5.860206, 'meeting': 5.9971337, 'wayfaring': 6.063852}\n"
     ]
    },
    {
     "data": {
      "image/png": "[encoded data removed]",
      "text/plain": [
       "<Figure size 1440x360 with 1 Axes>"
      ]
     },
     "metadata": {
      "needs_background": "light"
     },
     "output_type": "display_data"
    }
   ],
   "source": [
    "p2 = list()\n",
    "target2 = np.array(enc2[word_to_id2.get('world')])\n",
    "\n",
    "for i in range(num_neurons2):\n",
    "    p2.append(np.linalg.norm(target2 - np.array(enc2[i])))\n",
    "\n",
    "p2 = np.array(p2)\n",
    "a2 = list(np.argsort(p2))\n",
    "\n",
    "lab2 = list()\n",
    "pp2 = list()\n",
    "\n",
    "dic2 = {}\n",
    "\n",
    "fig2, ax2 = plt.subplots()\n",
    "fig2.set_size_inches(20,5)\n",
    "for k in range(1,11):\n",
    "    lab2.append(id_to_word2.get(a2[k]))\n",
    "    pp2.append([p2[a2[k]]])\n",
    "    dic2[id_to_word2.get(a2[k])] = p2[a2[k]]\n",
    "\n",
    "plt.scatter(pp2, np.zeros((10)))\n",
    "plt.xlabel('pairwise distance')\n",
    "\n",
    "print(dic2)\n",
    "\n",
    "pp2 = np.array(pp2)\n",
    "\n",
    "for k in range(10):\n",
    "    plt.annotate(lab2[k], (pp2[k], 0.005*math.pow(-1, k) - 0.002))"
   ]
  }
 ],
 "metadata": {
  "kernelspec": {
   "display_name": "Python 3 (ipykernel)",
   "language": "python",
   "name": "python3"
  },
  "language_info": {
   "codemirror_mode": {
    "name": "ipython",
    "version": 3
   },
   "file_extension": ".py",
   "mimetype": "text/x-python",
   "name": "python",
   "nbconvert_exporter": "python",
   "pygments_lexer": "ipython3",
   "version": "3.9.12"
  },
  "toc": {
   "base_numbering": 1,
   "nav_menu": {},
   "number_sections": false,
   "sideBar": true,
   "skip_h1_title": false,
   "title_cell": "Table of Contents",
   "title_sidebar": "Contents",
   "toc_cell": false,
   "toc_position": {},
   "toc_section_display": true,
   "toc_window_display": true
  },
  "varInspector": {
   "cols": {
    "lenName": 16,
    "lenType": 16,
    "lenVar": 40
   },
   "kernels_config": {
    "python": {
     "delete_cmd_postfix": "",
     "delete_cmd_prefix": "del ",
     "library": "var_list.py",
     "varRefreshCmd": "print(var_dic_list())"
    },
    "r": {
     "delete_cmd_postfix": ") ",
     "delete_cmd_prefix": "rm(",
     "library": "var_list.r",
     "varRefreshCmd": "cat(var_dic_list()) "
    }
   },
   "types_to_exclude": [
    "module",
    "function",
    "builtin_function_or_method",
    "instance",
    "_Feature"
   ],
   "window_display": false
  }
 },
 "nbformat": 4,
 "nbformat_minor": 2
}
